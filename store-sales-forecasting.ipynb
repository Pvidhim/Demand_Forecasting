{
 "cells": [
  {
   "cell_type": "markdown",
   "id": "444c305d",
   "metadata": {},
   "source": [
    "## Import Data"
   ]
  },
  {
   "cell_type": "code",
   "execution_count": 2,
   "id": "c319dfa2",
   "metadata": {},
   "outputs": [
    {
     "ename": "ModuleNotFoundError",
     "evalue": "No module named 'utils'",
     "output_type": "error",
     "traceback": [
      "\u001b[1;31m---------------------------------------------------------------------------\u001b[0m",
      "\u001b[1;31mModuleNotFoundError\u001b[0m                       Traceback (most recent call last)",
      "Cell \u001b[1;32mIn[2], line 18\u001b[0m\n\u001b[0;32m     15\u001b[0m plt\u001b[38;5;241m.\u001b[39mrcParams[\u001b[38;5;124m'\u001b[39m\u001b[38;5;124mlines.markersize\u001b[39m\u001b[38;5;124m'\u001b[39m] \u001b[38;5;241m=\u001b[39m \u001b[38;5;241m5\u001b[39m\n\u001b[0;32m     17\u001b[0m \u001b[38;5;28;01mfrom\u001b[39;00m \u001b[38;5;21;01mdatetime\u001b[39;00m \u001b[38;5;28;01mimport\u001b[39;00m datetime\n\u001b[1;32m---> 18\u001b[0m \u001b[38;5;28;01mimport\u001b[39;00m \u001b[38;5;21;01mutils\u001b[39;00m\n",
      "\u001b[1;31mModuleNotFoundError\u001b[0m: No module named 'utils'"
     ]
    }
   ],
   "source": [
    "import pandas as pd\n",
    "import numpy as np\n",
    "import matplotlib.pyplot as plt\n",
    "import seaborn as sns\n",
    "import calendar\n",
    "%matplotlib inline\n",
    "\n",
    "import xgboost as xgb\n",
    "from sklearn.metrics import mean_squared_error\n",
    "\n",
    "color_pal = sns.color_palette()\n",
    "\n",
    "# Override the default linewidth and markersize\n",
    "plt.rcParams['lines.linewidth'] = 1\n",
    "plt.rcParams['lines.markersize'] = 5\n",
    "\n",
    "#from datetime import datetime\n",
    "#import utils"
   ]
  },
  {
   "cell_type": "code",
   "execution_count": 1,
   "id": "36526eb9",
   "metadata": {},
   "outputs": [
    {
     "ename": "NameError",
     "evalue": "name 'pd' is not defined",
     "output_type": "error",
     "traceback": [
      "\u001b[1;31m---------------------------------------------------------------------------\u001b[0m",
      "\u001b[1;31mNameError\u001b[0m                                 Traceback (most recent call last)",
      "Cell \u001b[1;32mIn[1], line 2\u001b[0m\n\u001b[0;32m      1\u001b[0m \u001b[38;5;66;03m#load data\u001b[39;00m\n\u001b[1;32m----> 2\u001b[0m df_train \u001b[38;5;241m=\u001b[39m pd\u001b[38;5;241m.\u001b[39mread_csv(\u001b[38;5;124m'\u001b[39m\u001b[38;5;124mtrain.csv\u001b[39m\u001b[38;5;124m'\u001b[39m)\n\u001b[0;32m      3\u001b[0m df_test \u001b[38;5;241m=\u001b[39m pd\u001b[38;5;241m.\u001b[39mread_csv(\u001b[38;5;124m'\u001b[39m\u001b[38;5;124mtest.csv\u001b[39m\u001b[38;5;124m'\u001b[39m)\n\u001b[0;32m      5\u001b[0m df_trans \u001b[38;5;241m=\u001b[39m pd\u001b[38;5;241m.\u001b[39mread_csv(\u001b[38;5;124m'\u001b[39m\u001b[38;5;124mtransactions.csv\u001b[39m\u001b[38;5;124m'\u001b[39m)\n",
      "\u001b[1;31mNameError\u001b[0m: name 'pd' is not defined"
     ]
    }
   ],
   "source": [
    "#load data\n",
    "df_train = pd.read_csv('train.csv')\n",
    "df_test = pd.read_csv('test.csv')\n",
    "\n",
    "df_trans = pd.read_csv('transactions.csv')\n",
    "df_store = pd.read_csv('stores.csv')\n",
    "df_oil = pd.read_csv('oil.csv')\n",
    "df_holid = pd.read_csv('holidays_events.csv')"
   ]
  },
  {
   "cell_type": "code",
   "execution_count": null,
   "id": "24f9d0e3",
   "metadata": {},
   "outputs": [],
   "source": [
    "df_train.head()"
   ]
  },
  {
   "cell_type": "code",
   "execution_count": null,
   "id": "9038e5fe",
   "metadata": {},
   "outputs": [],
   "source": [
    "df_trans.head()"
   ]
  },
  {
   "cell_type": "code",
   "execution_count": null,
   "id": "6c6041cc",
   "metadata": {},
   "outputs": [],
   "source": [
    "df_store.head()"
   ]
  },
  {
   "cell_type": "code",
   "execution_count": null,
   "id": "84200f53",
   "metadata": {},
   "outputs": [],
   "source": [
    "df_oil.head()"
   ]
  },
  {
   "cell_type": "code",
   "execution_count": null,
   "id": "695f610b",
   "metadata": {},
   "outputs": [],
   "source": [
    "df_holid.head()"
   ]
  },
  {
   "cell_type": "markdown",
   "id": "78822851",
   "metadata": {},
   "source": [
    "## Data Merging and Data Cleaning"
   ]
  },
  {
   "cell_type": "code",
   "execution_count": null,
   "id": "83fed4c5",
   "metadata": {},
   "outputs": [],
   "source": [
    "#merge training data\n",
    "df_trainm = df_train.merge(df_trans, how='left', on=['date','store_nbr'])\n",
    "df_trainm = df_trainm.merge(df_store, how='left', on='store_nbr')\n",
    "df_trainm = df_trainm.merge(df_oil, how='left', on='date')\n",
    "df_trainm = df_trainm.merge(df_holid, how='left', on='date')"
   ]
  },
  {
   "cell_type": "code",
   "execution_count": null,
   "id": "0e13f490",
   "metadata": {},
   "outputs": [],
   "source": [
    "df_trainm.head()"
   ]
  },
  {
   "cell_type": "code",
   "execution_count": null,
   "id": "d579afba",
   "metadata": {},
   "outputs": [],
   "source": [
    "df_trainm.describe()"
   ]
  },
  {
   "cell_type": "code",
   "execution_count": null,
   "id": "ff8c65b4",
   "metadata": {},
   "outputs": [],
   "source": [
    "df_trainm = df_trainm.rename(columns={'type_x':'store_type','type_y':'holid_type'})"
   ]
  },
  {
   "cell_type": "code",
   "execution_count": null,
   "id": "63876132",
   "metadata": {},
   "outputs": [],
   "source": [
    "df_trainm['date']=pd.to_datetime(df_trainm['date'])\n",
    "df_trainm['year']= df_trainm['date'].dt.year\n",
    "df_trainm['month']= df_trainm['date'].dt.month\n",
    "df_trainm['week']= df_trainm['date'].dt.isocalendar().week\n",
    "df_trainm['quarter']= df_trainm['date'].dt.quarter\n",
    "df_trainm['day_of_week']= df_trainm['date'].dt.day_name()"
   ]
  },
  {
   "cell_type": "code",
   "execution_count": null,
   "id": "21bcca62",
   "metadata": {},
   "outputs": [],
   "source": [
    "df_trainm.isnull().sum()"
   ]
  },
  {
   "cell_type": "code",
   "execution_count": null,
   "id": "c40db1b1",
   "metadata": {},
   "outputs": [],
   "source": [
    "df_trainm.nunique()"
   ]
  },
  {
   "cell_type": "code",
   "execution_count": null,
   "id": "72fc039c",
   "metadata": {},
   "outputs": [],
   "source": [
    "#data cleaning: handling missing value \n",
    "df_trainm.transactions = df_trainm.transactions.replace(np.nan,0)\n",
    "df_trainm[['locale','locale_name', 'description']] = df_trainm[['locale','locale_name', 'description']].replace(np.nan,'unknown')\n",
    "df_trainm['holid_type'] = df_trainm['holid_type'].replace(np.nan,'Work Day')\n",
    "df_trainm['transferred'] = df_trainm['transferred'].replace(np.nan,False)"
   ]
  },
  {
   "cell_type": "code",
   "execution_count": 3,
   "id": "9daa5d00",
   "metadata": {},
   "outputs": [
    {
     "ename": "NameError",
     "evalue": "name 'df_trainm' is not defined",
     "output_type": "error",
     "traceback": [
      "\u001b[1;31m---------------------------------------------------------------------------\u001b[0m",
      "\u001b[1;31mNameError\u001b[0m                                 Traceback (most recent call last)",
      "Cell \u001b[1;32mIn[3], line 3\u001b[0m\n\u001b[0;32m      1\u001b[0m \u001b[38;5;66;03m# data cleaning: handling oil price missing value\u001b[39;00m\n\u001b[0;32m      2\u001b[0m \u001b[38;5;66;03m# back fill:the missing value is imputed using the next value\u001b[39;00m\n\u001b[1;32m----> 3\u001b[0m sns\u001b[38;5;241m.\u001b[39mlineplot(data\u001b[38;5;241m=\u001b[39mdf_trainm,x\u001b[38;5;241m=\u001b[39m\u001b[38;5;124m'\u001b[39m\u001b[38;5;124myear\u001b[39m\u001b[38;5;124m'\u001b[39m,y\u001b[38;5;241m=\u001b[39m\u001b[38;5;124m'\u001b[39m\u001b[38;5;124mdcoilwtico\u001b[39m\u001b[38;5;124m'\u001b[39m)\n\u001b[0;32m      4\u001b[0m df_trainm[\u001b[38;5;124m'\u001b[39m\u001b[38;5;124mdcoilwtico\u001b[39m\u001b[38;5;124m'\u001b[39m] \u001b[38;5;241m=\u001b[39m df_trainm[\u001b[38;5;124m'\u001b[39m\u001b[38;5;124mdcoilwtico\u001b[39m\u001b[38;5;124m'\u001b[39m]\u001b[38;5;241m.\u001b[39mfillna(method\u001b[38;5;241m=\u001b[39m\u001b[38;5;124m'\u001b[39m\u001b[38;5;124mbfill\u001b[39m\u001b[38;5;124m'\u001b[39m)\n",
      "\u001b[1;31mNameError\u001b[0m: name 'df_trainm' is not defined"
     ]
    }
   ],
   "source": [
    "# data cleaning: handling oil price missing value\n",
    "# back fill:the missing value is imputed using the next value\n",
    "sns.lineplot(data=df_trainm,x='year',y='dcoilwtico')\n",
    "df_trainm['dcoilwtico'] = df_trainm['dcoilwtico'].fillna(method='bfill')"
   ]
  },
  {
   "cell_type": "markdown",
   "id": "b8e5d583",
   "metadata": {},
   "source": [
    "## Exploratory Data Analysis (Visualisation)"
   ]
  },
  {
   "cell_type": "markdown",
   "id": "db1c52c0",
   "metadata": {},
   "source": [
    "Business interest-from cross section perspective:"
   ]
  },
  {
   "cell_type": "code",
   "execution_count": 4,
   "id": "5feccf4e",
   "metadata": {},
   "outputs": [
    {
     "ename": "NameError",
     "evalue": "name 'df_trainm' is not defined",
     "output_type": "error",
     "traceback": [
      "\u001b[1;31m---------------------------------------------------------------------------\u001b[0m",
      "\u001b[1;31mNameError\u001b[0m                                 Traceback (most recent call last)",
      "Cell \u001b[1;32mIn[4], line 2\u001b[0m\n\u001b[0;32m      1\u001b[0m \u001b[38;5;66;03m# avergae sales distribution in different stores, product family and cluster\u001b[39;00m\n\u001b[1;32m----> 2\u001b[0m df_store_sales \u001b[38;5;241m=\u001b[39m df_trainm\u001b[38;5;241m.\u001b[39mgroupby(\u001b[38;5;124m'\u001b[39m\u001b[38;5;124mstore_type\u001b[39m\u001b[38;5;124m'\u001b[39m)\u001b[38;5;241m.\u001b[39magg({\u001b[38;5;124m\"\u001b[39m\u001b[38;5;124msales\u001b[39m\u001b[38;5;124m\"\u001b[39m : \u001b[38;5;124m\"\u001b[39m\u001b[38;5;124mmean\u001b[39m\u001b[38;5;124m\"\u001b[39m})\u001b[38;5;241m.\u001b[39mreset_index()\u001b[38;5;241m.\u001b[39msort_values(by\u001b[38;5;241m=\u001b[39m\u001b[38;5;124m'\u001b[39m\u001b[38;5;124msales\u001b[39m\u001b[38;5;124m'\u001b[39m, ascending\u001b[38;5;241m=\u001b[39m\u001b[38;5;28;01mFalse\u001b[39;00m)\n\u001b[0;32m      3\u001b[0m df_family_sales \u001b[38;5;241m=\u001b[39mdf_trainm\u001b[38;5;241m.\u001b[39mgroupby(\u001b[38;5;124m'\u001b[39m\u001b[38;5;124mfamily\u001b[39m\u001b[38;5;124m'\u001b[39m)\u001b[38;5;241m.\u001b[39magg({\u001b[38;5;124m\"\u001b[39m\u001b[38;5;124msales\u001b[39m\u001b[38;5;124m\"\u001b[39m : \u001b[38;5;124m\"\u001b[39m\u001b[38;5;124mmean\u001b[39m\u001b[38;5;124m\"\u001b[39m})\u001b[38;5;241m.\u001b[39mreset_index()\u001b[38;5;241m.\u001b[39msort_values(by\u001b[38;5;241m=\u001b[39m\u001b[38;5;124m'\u001b[39m\u001b[38;5;124msales\u001b[39m\u001b[38;5;124m'\u001b[39m, ascending\u001b[38;5;241m=\u001b[39m\u001b[38;5;28;01mFalse\u001b[39;00m)[:\u001b[38;5;241m10\u001b[39m]\n\u001b[0;32m      4\u001b[0m df_cluster_sales \u001b[38;5;241m=\u001b[39mdf_trainm\u001b[38;5;241m.\u001b[39mgroupby(\u001b[38;5;124m'\u001b[39m\u001b[38;5;124mcluster\u001b[39m\u001b[38;5;124m'\u001b[39m)\u001b[38;5;241m.\u001b[39magg({\u001b[38;5;124m'\u001b[39m\u001b[38;5;124msales\u001b[39m\u001b[38;5;124m'\u001b[39m:\u001b[38;5;124m'\u001b[39m\u001b[38;5;124mmean\u001b[39m\u001b[38;5;124m'\u001b[39m})\u001b[38;5;241m.\u001b[39mreset_index()\u001b[38;5;241m.\u001b[39msort_values(by\u001b[38;5;241m=\u001b[39m\u001b[38;5;124m'\u001b[39m\u001b[38;5;124msales\u001b[39m\u001b[38;5;124m'\u001b[39m,ascending\u001b[38;5;241m=\u001b[39m\u001b[38;5;28;01mFalse\u001b[39;00m)\n",
      "\u001b[1;31mNameError\u001b[0m: name 'df_trainm' is not defined"
     ]
    }
   ],
   "source": [
    "# avergae sales distribution in different stores, product family and cluster\n",
    "df_store_sales = df_trainm.groupby('store_type').agg({\"sales\" : \"mean\"}).reset_index().sort_values(by='sales', ascending=False)\n",
    "df_family_sales =df_trainm.groupby('family').agg({\"sales\" : \"mean\"}).reset_index().sort_values(by='sales', ascending=False)[:10]\n",
    "df_cluster_sales =df_trainm.groupby('cluster').agg({'sales':'mean'}).reset_index().sort_values(by='sales',ascending=False)"
   ]
  },
  {
   "cell_type": "code",
   "execution_count": 5,
   "id": "72387127",
   "metadata": {},
   "outputs": [
    {
     "data": {
      "text/html": [
       "        <script type=\"text/javascript\">\n",
       "        window.PlotlyConfig = {MathJaxConfig: 'local'};\n",
       "        if (window.MathJax && window.MathJax.Hub && window.MathJax.Hub.Config) {window.MathJax.Hub.Config({SVG: {font: \"STIX-Web\"}});}\n",
       "        if (typeof require !== 'undefined') {\n",
       "        require.undef(\"plotly\");\n",
       "        requirejs.config({\n",
       "            paths: {\n",
       "                'plotly': ['https://cdn.plot.ly/plotly-2.12.1.min']\n",
       "            }\n",
       "        });\n",
       "        require(['plotly'], function(Plotly) {\n",
       "            window._Plotly = Plotly;\n",
       "        });\n",
       "        }\n",
       "        </script>\n",
       "        "
      ]
     },
     "metadata": {},
     "output_type": "display_data"
    }
   ],
   "source": [
    "import plotly.express as px\n",
    "from plotly.subplots import make_subplots\n",
    "import plotly.figure_factory as ff\n",
    "import plotly.offline as offline\n",
    "import plotly.graph_objs as go\n",
    "offline.init_notebook_mode(connected = True)"
   ]
  },
  {
   "cell_type": "code",
   "execution_count": 6,
   "id": "cc7a206a",
   "metadata": {},
   "outputs": [
    {
     "ename": "NameError",
     "evalue": "name 'df_family_sales' is not defined",
     "output_type": "error",
     "traceback": [
      "\u001b[1;31m---------------------------------------------------------------------------\u001b[0m",
      "\u001b[1;31mNameError\u001b[0m                                 Traceback (most recent call last)",
      "Cell \u001b[1;32mIn[6], line 1\u001b[0m\n\u001b[1;32m----> 1\u001b[0m df_family_sales[\u001b[38;5;124m'\u001b[39m\u001b[38;5;124mcolor\u001b[39m\u001b[38;5;124m'\u001b[39m] \u001b[38;5;241m=\u001b[39m \u001b[38;5;124m'\u001b[39m\u001b[38;5;124m#8442b3\u001b[39m\u001b[38;5;124m'\u001b[39m\n\u001b[0;32m      2\u001b[0m df_family_sales[\u001b[38;5;124m'\u001b[39m\u001b[38;5;124mcolor\u001b[39m\u001b[38;5;124m'\u001b[39m][\u001b[38;5;241m2\u001b[39m:] \u001b[38;5;241m=\u001b[39m \u001b[38;5;124m'\u001b[39m\u001b[38;5;124m#af89c9\u001b[39m\u001b[38;5;124m'\u001b[39m\n\u001b[0;32m      3\u001b[0m df_cluster_sales[\u001b[38;5;124m'\u001b[39m\u001b[38;5;124mcolor\u001b[39m\u001b[38;5;124m'\u001b[39m] \u001b[38;5;241m=\u001b[39m \u001b[38;5;124m'\u001b[39m\u001b[38;5;124m#af89c9\u001b[39m\u001b[38;5;124m'\u001b[39m\n",
      "\u001b[1;31mNameError\u001b[0m: name 'df_family_sales' is not defined"
     ]
    }
   ],
   "source": [
    "df_family_sales['color'] = '#8442b3'\n",
    "df_family_sales['color'][2:] = '#af89c9'\n",
    "df_cluster_sales['color'] = '#af89c9'"
   ]
  },
  {
   "cell_type": "code",
   "execution_count": null,
   "id": "ae4eea1e",
   "metadata": {},
   "outputs": [],
   "source": [
    "#make chart: https://github.com/plotly/plotly.py/blob/master/doc/python/subplots.md\n",
    "fig = make_subplots(rows=2, cols=2, \n",
    "                    specs=[[{\"type\": \"bar\"}, {\"type\": \"pie\"}],\n",
    "                           [{\"colspan\": 2}, None]],\n",
    "                    column_widths=[0.7, 0.3], vertical_spacing=0, horizontal_spacing=0.02,\n",
    "                    subplot_titles=(\"Top 10 Highest Product Sales\", \"Highest Sales in Stores\", \"Clusters Vs Sales\"))\n",
    "#family bar chart\n",
    "fig.add_trace(go.Bar(x=df_family_sales['sales'], y=df_family_sales['family'], marker=dict(color= df_family_sales['color']),\n",
    "                     name='Family', orientation='h'), \n",
    "                     row=1, col=1)\n",
    "#store type pie chart\n",
    "fig.add_trace(go.Pie(values=df_store_sales['sales'], labels=df_store_sales['store_type'], name='Store type',\n",
    "                     marker=dict(colors=['#8f74cd','#a682f8','#b292fc','#cebff0','#d9d2e9']), hole=0.7,\n",
    "                     hoverinfo='label+percent+value', textinfo='label'), \n",
    "                    row=1, col=2)\n",
    "#cluster bar chart\n",
    "fig.add_trace(go.Bar(x=df_cluster_sales['cluster'], y=df_cluster_sales['sales'], \n",
    "                     marker=dict(color= df_cluster_sales['color']), name='Cluster'), \n",
    "                     row=2, col=1)\n",
    "# styling\n",
    "fig.update_yaxes(showgrid=False, ticksuffix=' ', categoryorder='total ascending', row=1, col=1)\n",
    "fig.update_xaxes(visible=False, row=1, col=1)\n",
    "fig.update_layout(height=500, bargap=0.2,\n",
    "                  margin=dict(b=0,r=20,l=20), xaxis=dict(tickmode='linear'),\n",
    "                  title_text=\"Average Sales Analysis\",\n",
    "                  template=\"plotly_white\",\n",
    "                  title_font=dict(size=29, color='#8a8d93', family=\"Lato, sans-serif\"),\n",
    "                  font=dict(color='#8a8d93'), \n",
    "                  hoverlabel=dict(bgcolor=\"#f2f2f2\", font_size=13, font_family=\"Lato, sans-serif\"),\n",
    "                  showlegend=False)\n",
    "fig.show()"
   ]
  },
  {
   "cell_type": "markdown",
   "id": "5091da3d",
   "metadata": {},
   "source": [
    "Business interest-from time perspective:"
   ]
  },
  {
   "cell_type": "code",
   "execution_count": null,
   "id": "c1a733bb",
   "metadata": {},
   "outputs": [],
   "source": [
    "# monthly sales per year\n",
    "df_2013 = df_trainm[df_trainm['year']==2013][['month','sales']]\n",
    "df_2013 = df_2013.groupby('month').agg({\"sales\" : \"mean\"}).reset_index().rename(columns={'sales':'s13'})\n",
    "df_2014 = df_trainm[df_trainm['year']==2014][['month','sales']]\n",
    "df_2014 = df_2014.groupby('month').agg({\"sales\" : \"mean\"}).reset_index().rename(columns={'sales':'s14'})\n",
    "df_2015 = df_trainm[df_trainm['year']==2015][['month','sales']]\n",
    "df_2015 = df_2015.groupby('month').agg({\"sales\" : \"mean\"}).reset_index().rename(columns={'sales':'s15'})\n",
    "df_2016 = df_trainm[df_trainm['year']==2016][['month','sales']]\n",
    "df_2016 = df_2016.groupby('month').agg({\"sales\" : \"mean\"}).reset_index().rename(columns={'sales':'s16'})\n",
    "df_2017 = df_trainm[df_trainm['year']==2017][['month','sales']]\n",
    "df_2017 = df_2017.groupby('month').agg({\"sales\" : \"mean\"}).reset_index()\n",
    "df_2017_no = pd.DataFrame({'month': [9,10,11,12], 'sales':[0,0,0,0]})\n",
    "df_2017 = df_2017.append(df_2017_no).rename(columns={'sales':'s17'})\n",
    "df_year = df_2013.merge(df_2014,on='month').merge(df_2015,on='month').merge(df_2016,on='month').merge(df_2017,on='month')\n",
    "\n",
    "# top levels\n",
    "top_labels = ['2013', '2014', '2015', '2016', '2017']\n",
    "\n",
    "colors = ['rgba(38, 24, 74, 0.8)', 'rgba(71, 58, 131, 0.8)',\n",
    "          'rgba(122, 120, 168, 0.8)', 'rgba(164, 163, 204, 0.85)',\n",
    "          'rgba(190, 192, 213, 1)']\n",
    "\n",
    "# X axis value \n",
    "df_year = df_year[['s13','s14','s15','s16','s17']].replace(np.nan,0)\n",
    "x_data = df_year.values\n",
    "\n",
    "# y axis value (Month)\n",
    "df_2013['month'] =['Jan','Feb','Mar','Apr','May','Jun','Jul','Aug','Sep','Oct','Nov','Dec']\n",
    "y_data = df_2013['month'].tolist()\n",
    "\n",
    "fig = go.Figure()\n",
    "for i in range(0, len(x_data[0])):\n",
    "    for xd, yd in zip(x_data, y_data):\n",
    "        fig.add_trace(go.Bar(\n",
    "            x=[xd[i]], y=[yd],\n",
    "            orientation='h',\n",
    "            marker=dict(\n",
    "                color=colors[i],\n",
    "                line=dict(color='rgb(248, 248, 249)', width=1)\n",
    "            )\n",
    "        ))\n",
    "\n",
    "fig.update_layout(title='Avg Sales for each Year',\n",
    "    xaxis=dict(showgrid=False, \n",
    "               zeroline=False, domain=[0.15, 1]),\n",
    "    yaxis=dict(showgrid=False, showline=False,\n",
    "               showticklabels=False, zeroline=False),\n",
    "    barmode='stack', \n",
    "    template=\"plotly_white\",\n",
    "    margin=dict(l=0, r=50, t=100, b=10),\n",
    "    showlegend=False, \n",
    ")\n",
    "\n",
    "annotations = []\n",
    "for yd, xd in zip(y_data, x_data):\n",
    "    # labeling the y-axis\n",
    "    annotations.append(dict(xref='paper', yref='y',\n",
    "                            x=0.14, y=yd,\n",
    "                            xanchor='right',\n",
    "                            text=str(yd),\n",
    "                            font=dict(family='Arial', size=14,\n",
    "                                      color='rgb(67, 67, 67)'),\n",
    "                            showarrow=False, align='right'))\n",
    "    # labeling the first Likert scale (on the top)\n",
    "    if yd == y_data[-1]:\n",
    "        annotations.append(dict(xref='x', yref='paper',\n",
    "                                x=xd[0] / 2, y=1.1,\n",
    "                                text=top_labels[0],\n",
    "                                font=dict(family='Arial', size=14,\n",
    "                                          color='rgb(67, 67, 67)'),\n",
    "                          showarrow=False))\n",
    "    space = xd[0]\n",
    "    for i in range(1, len(xd)):\n",
    "            # labeling the Likert scale\n",
    "            if yd == y_data[-1]:\n",
    "                annotations.append(dict(xref='x', yref='paper',\n",
    "                                        x=space + (xd[i]/2), y=1.1,\n",
    "                                        text=top_labels[i],\n",
    "                                        font=dict(family='Arial', size=14,\n",
    "                                                  color='rgb(67, 67, 67)'),\n",
    "                                        showarrow=False))\n",
    "            space += xd[i]\n",
    "fig.update_layout(\n",
    "    annotations=annotations)\n",
    "fig.show()\n"
   ]
  },
  {
   "cell_type": "code",
   "execution_count": null,
   "id": "eebd760a",
   "metadata": {},
   "outputs": [],
   "source": [
    "#total sales distribution within a week\n",
    "table=pd.pivot_table(df_trainm, values ='sales', index =['day_of_week'], aggfunc = np.sum)\n",
    "fig, ax = plt.subplots(figsize=(10,10))         \n",
    "sns.heatmap(table, annot=True, linewidths=.5, ax=ax, cmap=\"coolwarm\")\n",
    "plt.show()"
   ]
  },
  {
   "cell_type": "code",
   "execution_count": null,
   "id": "3e6aa702",
   "metadata": {},
   "outputs": [],
   "source": [
    "#total sales distribution in four quarters\n",
    "table=pd.pivot_table(df_trainm, values ='sales', index =['quarter'], aggfunc = np.sum)\n",
    "fig, ax = plt.subplots(figsize=(10,10))         \n",
    "sns.heatmap(table, annot=True, linewidths=.5, ax=ax, cmap=\"coolwarm\")\n",
    "plt.show()"
   ]
  },
  {
   "cell_type": "markdown",
   "id": "8ffccac5",
   "metadata": {},
   "source": [
    "## Data Manipulation "
   ]
  },
  {
   "cell_type": "code",
   "execution_count": null,
   "id": "c43a7b41",
   "metadata": {},
   "outputs": [],
   "source": [
    "df_trainm.head()"
   ]
  },
  {
   "cell_type": "code",
   "execution_count": null,
   "id": "579c3c7b",
   "metadata": {},
   "outputs": [],
   "source": [
    "df_trainm.info()"
   ]
  },
  {
   "cell_type": "code",
   "execution_count": null,
   "id": "e7ae2373",
   "metadata": {},
   "outputs": [],
   "source": [
    "# seperate 7 day_in_week into 2 categories: weekday and weekend \n",
    "day_week = {\n",
    "    'Monday':'Weekday',\n",
    "    'Tuesday':'Weekday',\n",
    "    'Wednesday':'Weekday',\n",
    "    'Thursday':'Weekday',\n",
    "    'Friday':'Weekday',\n",
    "    'Saturday':'Weekend',\n",
    "    'Sunday':'Weekend'\n",
    "}\n",
    "\n",
    "df_trainm['day_in_week']=df_trainm['day_of_week'].map(day_week)\n",
    "df_trainm.head()"
   ]
  },
  {
   "cell_type": "code",
   "execution_count": null,
   "id": "850c6a04",
   "metadata": {},
   "outputs": [],
   "source": [
    "# seperate family into 2 categories: popular and unpopular\n",
    "fa_sa = df_trainm.groupby('family').agg({\"sales\" : \"mean\"}).reset_index().sort_values(by='sales', ascending=False)\n",
    "\n",
    "new_fam1={}\n",
    "keys=fa_sa[fa_sa['sales']>85]['family'].to_numpy()\n",
    "for i in range(len(keys)):\n",
    "    new_fam1[keys[i]] = 'Popular Genre'\n",
    "\n",
    "new_fam2={}\n",
    "key=fa_sa[fa_sa['sales']<85]['family'].to_numpy()\n",
    "for i in range(len(key)):\n",
    "    new_fam2[key[i]] = 'Unpopular Genre'\n",
    "\n",
    "new_fam = {}\n",
    "new_fam.update(new_fam1)\n",
    "new_fam.update(new_fam2)\n",
    "\n",
    "df_trainm['new_family']=df_trainm['family'].map(new_fam)\n",
    "df_trainm.head()"
   ]
  },
  {
   "cell_type": "code",
   "execution_count": null,
   "id": "040ce9f9",
   "metadata": {},
   "outputs": [],
   "source": [
    "plt.figure(figsize=(50,30))\n",
    "sns.barplot(data=fa_sa,x='family',y='sales')"
   ]
  },
  {
   "cell_type": "code",
   "execution_count": null,
   "id": "9005ef4c",
   "metadata": {},
   "outputs": [],
   "source": [
    "df_trainm.info()"
   ]
  },
  {
   "cell_type": "code",
   "execution_count": 7,
   "id": "7ef55e19",
   "metadata": {},
   "outputs": [
    {
     "ename": "NameError",
     "evalue": "name 'df_trainm' is not defined",
     "output_type": "error",
     "traceback": [
      "\u001b[1;31m---------------------------------------------------------------------------\u001b[0m",
      "\u001b[1;31mNameError\u001b[0m                                 Traceback (most recent call last)",
      "Cell \u001b[1;32mIn[7], line 1\u001b[0m\n\u001b[1;32m----> 1\u001b[0m df_trainm\u001b[38;5;241m.\u001b[39mdrop([\u001b[38;5;124m'\u001b[39m\u001b[38;5;124mfamily\u001b[39m\u001b[38;5;124m'\u001b[39m,\u001b[38;5;124m'\u001b[39m\u001b[38;5;124mstate\u001b[39m\u001b[38;5;124m'\u001b[39m,\u001b[38;5;124m'\u001b[39m\u001b[38;5;124mlocale_name\u001b[39m\u001b[38;5;124m'\u001b[39m,\u001b[38;5;124m'\u001b[39m\u001b[38;5;124mdescription\u001b[39m\u001b[38;5;124m'\u001b[39m,\u001b[38;5;124m'\u001b[39m\u001b[38;5;124mday_of_week\u001b[39m\u001b[38;5;124m'\u001b[39m,\u001b[38;5;124m'\u001b[39m\u001b[38;5;124mid\u001b[39m\u001b[38;5;124m'\u001b[39m],axis\u001b[38;5;241m=\u001b[39m\u001b[38;5;241m1\u001b[39m,inplace\u001b[38;5;241m=\u001b[39m\u001b[38;5;28;01mTrue\u001b[39;00m)\n",
      "\u001b[1;31mNameError\u001b[0m: name 'df_trainm' is not defined"
     ]
    }
   ],
   "source": [
    "df_trainm.drop(['family','state','locale_name','description','day_of_week','id'],axis=1,inplace=True)"
   ]
  },
  {
   "cell_type": "code",
   "execution_count": 360,
   "id": "477c2671",
   "metadata": {},
   "outputs": [
    {
     "data": {
      "text/html": [
       "<div>\n",
       "<style scoped>\n",
       "    .dataframe tbody tr th:only-of-type {\n",
       "        vertical-align: middle;\n",
       "    }\n",
       "\n",
       "    .dataframe tbody tr th {\n",
       "        vertical-align: top;\n",
       "    }\n",
       "\n",
       "    .dataframe thead th {\n",
       "        text-align: right;\n",
       "    }\n",
       "</style>\n",
       "<table border=\"1\" class=\"dataframe\">\n",
       "  <thead>\n",
       "    <tr style=\"text-align: right;\">\n",
       "      <th></th>\n",
       "      <th>date</th>\n",
       "      <th>store_nbr</th>\n",
       "      <th>sales</th>\n",
       "      <th>onpromotion</th>\n",
       "      <th>transactions</th>\n",
       "      <th>city</th>\n",
       "      <th>store_type</th>\n",
       "      <th>cluster</th>\n",
       "      <th>dcoilwtico</th>\n",
       "      <th>holid_type</th>\n",
       "      <th>locale</th>\n",
       "      <th>transferred</th>\n",
       "      <th>year</th>\n",
       "      <th>month</th>\n",
       "      <th>week</th>\n",
       "      <th>quarter</th>\n",
       "      <th>day_in_week</th>\n",
       "      <th>new_family</th>\n",
       "    </tr>\n",
       "  </thead>\n",
       "  <tbody>\n",
       "    <tr>\n",
       "      <th>0</th>\n",
       "      <td>2013-01-01</td>\n",
       "      <td>1</td>\n",
       "      <td>0.0</td>\n",
       "      <td>0</td>\n",
       "      <td>0.0</td>\n",
       "      <td>Quito</td>\n",
       "      <td>D</td>\n",
       "      <td>13</td>\n",
       "      <td>93.14</td>\n",
       "      <td>Holiday</td>\n",
       "      <td>National</td>\n",
       "      <td>False</td>\n",
       "      <td>2013</td>\n",
       "      <td>1</td>\n",
       "      <td>1</td>\n",
       "      <td>1</td>\n",
       "      <td>Weekday</td>\n",
       "      <td>Unpopular Genre</td>\n",
       "    </tr>\n",
       "    <tr>\n",
       "      <th>1</th>\n",
       "      <td>2013-01-01</td>\n",
       "      <td>1</td>\n",
       "      <td>0.0</td>\n",
       "      <td>0</td>\n",
       "      <td>0.0</td>\n",
       "      <td>Quito</td>\n",
       "      <td>D</td>\n",
       "      <td>13</td>\n",
       "      <td>93.14</td>\n",
       "      <td>Holiday</td>\n",
       "      <td>National</td>\n",
       "      <td>False</td>\n",
       "      <td>2013</td>\n",
       "      <td>1</td>\n",
       "      <td>1</td>\n",
       "      <td>1</td>\n",
       "      <td>Weekday</td>\n",
       "      <td>Unpopular Genre</td>\n",
       "    </tr>\n",
       "    <tr>\n",
       "      <th>2</th>\n",
       "      <td>2013-01-01</td>\n",
       "      <td>1</td>\n",
       "      <td>0.0</td>\n",
       "      <td>0</td>\n",
       "      <td>0.0</td>\n",
       "      <td>Quito</td>\n",
       "      <td>D</td>\n",
       "      <td>13</td>\n",
       "      <td>93.14</td>\n",
       "      <td>Holiday</td>\n",
       "      <td>National</td>\n",
       "      <td>False</td>\n",
       "      <td>2013</td>\n",
       "      <td>1</td>\n",
       "      <td>1</td>\n",
       "      <td>1</td>\n",
       "      <td>Weekday</td>\n",
       "      <td>Unpopular Genre</td>\n",
       "    </tr>\n",
       "    <tr>\n",
       "      <th>3</th>\n",
       "      <td>2013-01-01</td>\n",
       "      <td>1</td>\n",
       "      <td>0.0</td>\n",
       "      <td>0</td>\n",
       "      <td>0.0</td>\n",
       "      <td>Quito</td>\n",
       "      <td>D</td>\n",
       "      <td>13</td>\n",
       "      <td>93.14</td>\n",
       "      <td>Holiday</td>\n",
       "      <td>National</td>\n",
       "      <td>False</td>\n",
       "      <td>2013</td>\n",
       "      <td>1</td>\n",
       "      <td>1</td>\n",
       "      <td>1</td>\n",
       "      <td>Weekday</td>\n",
       "      <td>Popular Genre</td>\n",
       "    </tr>\n",
       "    <tr>\n",
       "      <th>4</th>\n",
       "      <td>2013-01-01</td>\n",
       "      <td>1</td>\n",
       "      <td>0.0</td>\n",
       "      <td>0</td>\n",
       "      <td>0.0</td>\n",
       "      <td>Quito</td>\n",
       "      <td>D</td>\n",
       "      <td>13</td>\n",
       "      <td>93.14</td>\n",
       "      <td>Holiday</td>\n",
       "      <td>National</td>\n",
       "      <td>False</td>\n",
       "      <td>2013</td>\n",
       "      <td>1</td>\n",
       "      <td>1</td>\n",
       "      <td>1</td>\n",
       "      <td>Weekday</td>\n",
       "      <td>Unpopular Genre</td>\n",
       "    </tr>\n",
       "  </tbody>\n",
       "</table>\n",
       "</div>"
      ],
      "text/plain": [
       "        date  store_nbr  sales  onpromotion  transactions   city store_type  \\\n",
       "0 2013-01-01          1    0.0            0           0.0  Quito          D   \n",
       "1 2013-01-01          1    0.0            0           0.0  Quito          D   \n",
       "2 2013-01-01          1    0.0            0           0.0  Quito          D   \n",
       "3 2013-01-01          1    0.0            0           0.0  Quito          D   \n",
       "4 2013-01-01          1    0.0            0           0.0  Quito          D   \n",
       "\n",
       "   cluster  dcoilwtico holid_type    locale  transferred  year  month  week  \\\n",
       "0       13       93.14    Holiday  National        False  2013      1     1   \n",
       "1       13       93.14    Holiday  National        False  2013      1     1   \n",
       "2       13       93.14    Holiday  National        False  2013      1     1   \n",
       "3       13       93.14    Holiday  National        False  2013      1     1   \n",
       "4       13       93.14    Holiday  National        False  2013      1     1   \n",
       "\n",
       "   quarter day_in_week       new_family  \n",
       "0        1     Weekday  Unpopular Genre  \n",
       "1        1     Weekday  Unpopular Genre  \n",
       "2        1     Weekday  Unpopular Genre  \n",
       "3        1     Weekday    Popular Genre  \n",
       "4        1     Weekday  Unpopular Genre  "
      ]
     },
     "execution_count": 360,
     "metadata": {},
     "output_type": "execute_result"
    }
   ],
   "source": [
    "df_trainm.head()"
   ]
  },
  {
   "cell_type": "code",
   "execution_count": 361,
   "id": "2b5edb0c",
   "metadata": {},
   "outputs": [],
   "source": [
    "#LabeEncoder city\n",
    "from sklearn.preprocessing import LabelEncoder, OneHotEncoder\n",
    "df_trainm['city'] = LabelEncoder().fit_transform(df_trainm['city'])"
   ]
  },
  {
   "cell_type": "code",
   "execution_count": 362,
   "id": "ff7e2dc2",
   "metadata": {},
   "outputs": [],
   "source": [
    "#create dummy variables\n",
    "holiday=pd.get_dummies(df_trainm['holid_type'],drop_first=True)\n",
    "local=pd.get_dummies(df_trainm['locale'],drop_first=True)\n",
    "day_week=pd.get_dummies(df_trainm['day_in_week'],drop_first=True)\n",
    "fam=pd.get_dummies(df_trainm['new_family'],drop_first=True)\n",
    "store=pd.get_dummies(df_trainm['store_type'],drop_first=True)\n",
    "\n",
    "df_trainm.drop(['holid_type','locale','day_in_week','new_family','store_type'],axis=1,inplace=True)\n"
   ]
  },
  {
   "cell_type": "code",
   "execution_count": 363,
   "id": "5cffaa12",
   "metadata": {},
   "outputs": [],
   "source": [
    "df_trainm = pd.concat( [df_trainm,holiday,local,day_week,fam,store],axis=1)"
   ]
  },
  {
   "cell_type": "markdown",
   "id": "11314745",
   "metadata": {},
   "source": [
    "## Modelling"
   ]
  },
  {
   "cell_type": "code",
   "execution_count": 364,
   "id": "097f013c",
   "metadata": {},
   "outputs": [],
   "source": [
    "df_trainm=df_trainm.set_index('date')\n",
    "df_trainm.week = df_trainm.week.astype(int)"
   ]
  },
  {
   "cell_type": "code",
   "execution_count": 365,
   "id": "a207be97",
   "metadata": {},
   "outputs": [
    {
     "data": {
      "text/html": [
       "<div>\n",
       "<style scoped>\n",
       "    .dataframe tbody tr th:only-of-type {\n",
       "        vertical-align: middle;\n",
       "    }\n",
       "\n",
       "    .dataframe tbody tr th {\n",
       "        vertical-align: top;\n",
       "    }\n",
       "\n",
       "    .dataframe thead th {\n",
       "        text-align: right;\n",
       "    }\n",
       "</style>\n",
       "<table border=\"1\" class=\"dataframe\">\n",
       "  <thead>\n",
       "    <tr style=\"text-align: right;\">\n",
       "      <th></th>\n",
       "      <th>store_nbr</th>\n",
       "      <th>sales</th>\n",
       "      <th>onpromotion</th>\n",
       "      <th>transactions</th>\n",
       "      <th>city</th>\n",
       "      <th>cluster</th>\n",
       "      <th>dcoilwtico</th>\n",
       "      <th>transferred</th>\n",
       "      <th>year</th>\n",
       "      <th>month</th>\n",
       "      <th>...</th>\n",
       "      <th>Work Day</th>\n",
       "      <th>National</th>\n",
       "      <th>Regional</th>\n",
       "      <th>unknown</th>\n",
       "      <th>Weekend</th>\n",
       "      <th>Unpopular Genre</th>\n",
       "      <th>B</th>\n",
       "      <th>C</th>\n",
       "      <th>D</th>\n",
       "      <th>E</th>\n",
       "    </tr>\n",
       "    <tr>\n",
       "      <th>date</th>\n",
       "      <th></th>\n",
       "      <th></th>\n",
       "      <th></th>\n",
       "      <th></th>\n",
       "      <th></th>\n",
       "      <th></th>\n",
       "      <th></th>\n",
       "      <th></th>\n",
       "      <th></th>\n",
       "      <th></th>\n",
       "      <th></th>\n",
       "      <th></th>\n",
       "      <th></th>\n",
       "      <th></th>\n",
       "      <th></th>\n",
       "      <th></th>\n",
       "      <th></th>\n",
       "      <th></th>\n",
       "      <th></th>\n",
       "      <th></th>\n",
       "      <th></th>\n",
       "    </tr>\n",
       "  </thead>\n",
       "  <tbody>\n",
       "    <tr>\n",
       "      <th>2013-01-01</th>\n",
       "      <td>1</td>\n",
       "      <td>0.0</td>\n",
       "      <td>0</td>\n",
       "      <td>0.0</td>\n",
       "      <td>18</td>\n",
       "      <td>13</td>\n",
       "      <td>93.14</td>\n",
       "      <td>False</td>\n",
       "      <td>2013</td>\n",
       "      <td>1</td>\n",
       "      <td>...</td>\n",
       "      <td>0</td>\n",
       "      <td>1</td>\n",
       "      <td>0</td>\n",
       "      <td>0</td>\n",
       "      <td>0</td>\n",
       "      <td>1</td>\n",
       "      <td>0</td>\n",
       "      <td>0</td>\n",
       "      <td>1</td>\n",
       "      <td>0</td>\n",
       "    </tr>\n",
       "    <tr>\n",
       "      <th>2013-01-01</th>\n",
       "      <td>1</td>\n",
       "      <td>0.0</td>\n",
       "      <td>0</td>\n",
       "      <td>0.0</td>\n",
       "      <td>18</td>\n",
       "      <td>13</td>\n",
       "      <td>93.14</td>\n",
       "      <td>False</td>\n",
       "      <td>2013</td>\n",
       "      <td>1</td>\n",
       "      <td>...</td>\n",
       "      <td>0</td>\n",
       "      <td>1</td>\n",
       "      <td>0</td>\n",
       "      <td>0</td>\n",
       "      <td>0</td>\n",
       "      <td>1</td>\n",
       "      <td>0</td>\n",
       "      <td>0</td>\n",
       "      <td>1</td>\n",
       "      <td>0</td>\n",
       "    </tr>\n",
       "    <tr>\n",
       "      <th>2013-01-01</th>\n",
       "      <td>1</td>\n",
       "      <td>0.0</td>\n",
       "      <td>0</td>\n",
       "      <td>0.0</td>\n",
       "      <td>18</td>\n",
       "      <td>13</td>\n",
       "      <td>93.14</td>\n",
       "      <td>False</td>\n",
       "      <td>2013</td>\n",
       "      <td>1</td>\n",
       "      <td>...</td>\n",
       "      <td>0</td>\n",
       "      <td>1</td>\n",
       "      <td>0</td>\n",
       "      <td>0</td>\n",
       "      <td>0</td>\n",
       "      <td>1</td>\n",
       "      <td>0</td>\n",
       "      <td>0</td>\n",
       "      <td>1</td>\n",
       "      <td>0</td>\n",
       "    </tr>\n",
       "    <tr>\n",
       "      <th>2013-01-01</th>\n",
       "      <td>1</td>\n",
       "      <td>0.0</td>\n",
       "      <td>0</td>\n",
       "      <td>0.0</td>\n",
       "      <td>18</td>\n",
       "      <td>13</td>\n",
       "      <td>93.14</td>\n",
       "      <td>False</td>\n",
       "      <td>2013</td>\n",
       "      <td>1</td>\n",
       "      <td>...</td>\n",
       "      <td>0</td>\n",
       "      <td>1</td>\n",
       "      <td>0</td>\n",
       "      <td>0</td>\n",
       "      <td>0</td>\n",
       "      <td>0</td>\n",
       "      <td>0</td>\n",
       "      <td>0</td>\n",
       "      <td>1</td>\n",
       "      <td>0</td>\n",
       "    </tr>\n",
       "    <tr>\n",
       "      <th>2013-01-01</th>\n",
       "      <td>1</td>\n",
       "      <td>0.0</td>\n",
       "      <td>0</td>\n",
       "      <td>0.0</td>\n",
       "      <td>18</td>\n",
       "      <td>13</td>\n",
       "      <td>93.14</td>\n",
       "      <td>False</td>\n",
       "      <td>2013</td>\n",
       "      <td>1</td>\n",
       "      <td>...</td>\n",
       "      <td>0</td>\n",
       "      <td>1</td>\n",
       "      <td>0</td>\n",
       "      <td>0</td>\n",
       "      <td>0</td>\n",
       "      <td>1</td>\n",
       "      <td>0</td>\n",
       "      <td>0</td>\n",
       "      <td>1</td>\n",
       "      <td>0</td>\n",
       "    </tr>\n",
       "  </tbody>\n",
       "</table>\n",
       "<p>5 rows × 26 columns</p>\n",
       "</div>"
      ],
      "text/plain": [
       "            store_nbr  sales  onpromotion  transactions  city  cluster  \\\n",
       "date                                                                     \n",
       "2013-01-01          1    0.0            0           0.0    18       13   \n",
       "2013-01-01          1    0.0            0           0.0    18       13   \n",
       "2013-01-01          1    0.0            0           0.0    18       13   \n",
       "2013-01-01          1    0.0            0           0.0    18       13   \n",
       "2013-01-01          1    0.0            0           0.0    18       13   \n",
       "\n",
       "            dcoilwtico  transferred  year  month  ...  Work Day  National  \\\n",
       "date                                              ...                       \n",
       "2013-01-01       93.14        False  2013      1  ...         0         1   \n",
       "2013-01-01       93.14        False  2013      1  ...         0         1   \n",
       "2013-01-01       93.14        False  2013      1  ...         0         1   \n",
       "2013-01-01       93.14        False  2013      1  ...         0         1   \n",
       "2013-01-01       93.14        False  2013      1  ...         0         1   \n",
       "\n",
       "            Regional  unknown  Weekend  Unpopular Genre  B  C  D  E  \n",
       "date                                                                 \n",
       "2013-01-01         0        0        0                1  0  0  1  0  \n",
       "2013-01-01         0        0        0                1  0  0  1  0  \n",
       "2013-01-01         0        0        0                1  0  0  1  0  \n",
       "2013-01-01         0        0        0                0  0  0  1  0  \n",
       "2013-01-01         0        0        0                1  0  0  1  0  \n",
       "\n",
       "[5 rows x 26 columns]"
      ]
     },
     "execution_count": 365,
     "metadata": {},
     "output_type": "execute_result"
    }
   ],
   "source": [
    "df_trainm.head()"
   ]
  },
  {
   "cell_type": "code",
   "execution_count": 366,
   "id": "2bdd002f",
   "metadata": {},
   "outputs": [],
   "source": [
    "from sklearn.model_selection import train_test_split"
   ]
  },
  {
   "cell_type": "code",
   "execution_count": 367,
   "id": "65eba701",
   "metadata": {},
   "outputs": [],
   "source": [
    "X_train, X_test, y_train, y_test = train_test_split(df_trainm.drop('sales',axis=1), \n",
    "                                                    df_trainm['sales'], test_size=0.30)"
   ]
  },
  {
   "cell_type": "code",
   "execution_count": 368,
   "id": "f04441d8",
   "metadata": {},
   "outputs": [],
   "source": [
    "import xgboost\n",
    "from xgboost import XGBRegressor"
   ]
  },
  {
   "cell_type": "code",
   "execution_count": 369,
   "id": "3374ff45",
   "metadata": {},
   "outputs": [
    {
     "name": "stdout",
     "output_type": "stream",
     "text": [
      "[11:35:48] DEBUG: /Users/runner/miniforge3/conda-bld/xgboost_1593723618214/work/src/gbm/gbtree.cc:147: Using tree method: 2\n",
      "[11:35:49] INFO: /Users/runner/miniforge3/conda-bld/xgboost_1593723618214/work/src/tree/updater_prune.cc:98: tree pruning end, 2 extra nodes, 0 pruned nodes, max_depth=1\n",
      "[11:35:49] INFO: /Users/runner/miniforge3/conda-bld/xgboost_1593723618214/work/src/tree/updater_prune.cc:98: tree pruning end, 2 extra nodes, 0 pruned nodes, max_depth=1\n",
      "[11:35:50] INFO: /Users/runner/miniforge3/conda-bld/xgboost_1593723618214/work/src/tree/updater_prune.cc:98: tree pruning end, 16 extra nodes, 0 pruned nodes, max_depth=6\n",
      "[11:35:50] INFO: /Users/runner/miniforge3/conda-bld/xgboost_1593723618214/work/src/tree/updater_prune.cc:98: tree pruning end, 0 extra nodes, 0 pruned nodes, max_depth=0\n",
      "[11:35:50] INFO: /Users/runner/miniforge3/conda-bld/xgboost_1593723618214/work/src/tree/updater_prune.cc:98: tree pruning end, 0 extra nodes, 0 pruned nodes, max_depth=0\n",
      "[11:35:50] INFO: /Users/runner/miniforge3/conda-bld/xgboost_1593723618214/work/src/tree/updater_prune.cc:98: tree pruning end, 0 extra nodes, 0 pruned nodes, max_depth=0\n",
      "[11:35:51] INFO: /Users/runner/miniforge3/conda-bld/xgboost_1593723618214/work/src/tree/updater_prune.cc:98: tree pruning end, 16 extra nodes, 0 pruned nodes, max_depth=6\n",
      "[11:35:51] INFO: /Users/runner/miniforge3/conda-bld/xgboost_1593723618214/work/src/tree/updater_prune.cc:98: tree pruning end, 2 extra nodes, 0 pruned nodes, max_depth=1\n",
      "[11:35:52] INFO: /Users/runner/miniforge3/conda-bld/xgboost_1593723618214/work/src/tree/updater_prune.cc:98: tree pruning end, 24 extra nodes, 0 pruned nodes, max_depth=6\n",
      "[11:35:53] INFO: /Users/runner/miniforge3/conda-bld/xgboost_1593723618214/work/src/tree/updater_prune.cc:98: tree pruning end, 60 extra nodes, 0 pruned nodes, max_depth=6\n",
      "[11:35:54] INFO: /Users/runner/miniforge3/conda-bld/xgboost_1593723618214/work/src/tree/updater_prune.cc:98: tree pruning end, 66 extra nodes, 0 pruned nodes, max_depth=6\n",
      "[11:35:55] INFO: /Users/runner/miniforge3/conda-bld/xgboost_1593723618214/work/src/tree/updater_prune.cc:98: tree pruning end, 66 extra nodes, 0 pruned nodes, max_depth=6\n",
      "[11:35:56] INFO: /Users/runner/miniforge3/conda-bld/xgboost_1593723618214/work/src/tree/updater_prune.cc:98: tree pruning end, 66 extra nodes, 0 pruned nodes, max_depth=6\n",
      "[11:35:57] INFO: /Users/runner/miniforge3/conda-bld/xgboost_1593723618214/work/src/tree/updater_prune.cc:98: tree pruning end, 64 extra nodes, 0 pruned nodes, max_depth=6\n",
      "[11:35:58] INFO: /Users/runner/miniforge3/conda-bld/xgboost_1593723618214/work/src/tree/updater_prune.cc:98: tree pruning end, 66 extra nodes, 0 pruned nodes, max_depth=6\n",
      "[11:35:59] INFO: /Users/runner/miniforge3/conda-bld/xgboost_1593723618214/work/src/tree/updater_prune.cc:98: tree pruning end, 86 extra nodes, 0 pruned nodes, max_depth=6\n",
      "[11:36:00] INFO: /Users/runner/miniforge3/conda-bld/xgboost_1593723618214/work/src/tree/updater_prune.cc:98: tree pruning end, 64 extra nodes, 0 pruned nodes, max_depth=6\n",
      "[11:36:01] INFO: /Users/runner/miniforge3/conda-bld/xgboost_1593723618214/work/src/tree/updater_prune.cc:98: tree pruning end, 88 extra nodes, 0 pruned nodes, max_depth=6\n",
      "[11:36:02] INFO: /Users/runner/miniforge3/conda-bld/xgboost_1593723618214/work/src/tree/updater_prune.cc:98: tree pruning end, 84 extra nodes, 0 pruned nodes, max_depth=6\n",
      "[11:36:03] INFO: /Users/runner/miniforge3/conda-bld/xgboost_1593723618214/work/src/tree/updater_prune.cc:98: tree pruning end, 80 extra nodes, 0 pruned nodes, max_depth=6\n",
      "[11:36:04] INFO: /Users/runner/miniforge3/conda-bld/xgboost_1593723618214/work/src/tree/updater_prune.cc:98: tree pruning end, 66 extra nodes, 0 pruned nodes, max_depth=6\n",
      "[11:36:05] INFO: /Users/runner/miniforge3/conda-bld/xgboost_1593723618214/work/src/tree/updater_prune.cc:98: tree pruning end, 82 extra nodes, 0 pruned nodes, max_depth=6\n",
      "[11:36:06] INFO: /Users/runner/miniforge3/conda-bld/xgboost_1593723618214/work/src/tree/updater_prune.cc:98: tree pruning end, 64 extra nodes, 0 pruned nodes, max_depth=6\n",
      "[11:36:07] INFO: /Users/runner/miniforge3/conda-bld/xgboost_1593723618214/work/src/tree/updater_prune.cc:98: tree pruning end, 80 extra nodes, 0 pruned nodes, max_depth=6\n",
      "[11:36:08] INFO: /Users/runner/miniforge3/conda-bld/xgboost_1593723618214/work/src/tree/updater_prune.cc:98: tree pruning end, 94 extra nodes, 0 pruned nodes, max_depth=6\n",
      "[11:36:10] INFO: /Users/runner/miniforge3/conda-bld/xgboost_1593723618214/work/src/tree/updater_prune.cc:98: tree pruning end, 90 extra nodes, 0 pruned nodes, max_depth=6\n",
      "[11:36:12] INFO: /Users/runner/miniforge3/conda-bld/xgboost_1593723618214/work/src/tree/updater_prune.cc:98: tree pruning end, 122 extra nodes, 0 pruned nodes, max_depth=6\n",
      "[11:36:13] INFO: /Users/runner/miniforge3/conda-bld/xgboost_1593723618214/work/src/tree/updater_prune.cc:98: tree pruning end, 120 extra nodes, 0 pruned nodes, max_depth=6\n",
      "[11:36:14] INFO: /Users/runner/miniforge3/conda-bld/xgboost_1593723618214/work/src/tree/updater_prune.cc:98: tree pruning end, 112 extra nodes, 0 pruned nodes, max_depth=6\n",
      "[11:36:15] INFO: /Users/runner/miniforge3/conda-bld/xgboost_1593723618214/work/src/tree/updater_prune.cc:98: tree pruning end, 118 extra nodes, 0 pruned nodes, max_depth=6\n",
      "[11:36:16] INFO: /Users/runner/miniforge3/conda-bld/xgboost_1593723618214/work/src/tree/updater_prune.cc:98: tree pruning end, 122 extra nodes, 0 pruned nodes, max_depth=6\n",
      "[11:36:17] INFO: /Users/runner/miniforge3/conda-bld/xgboost_1593723618214/work/src/tree/updater_prune.cc:98: tree pruning end, 124 extra nodes, 0 pruned nodes, max_depth=6\n",
      "[11:36:18] INFO: /Users/runner/miniforge3/conda-bld/xgboost_1593723618214/work/src/tree/updater_prune.cc:98: tree pruning end, 124 extra nodes, 0 pruned nodes, max_depth=6\n",
      "[11:36:19] INFO: /Users/runner/miniforge3/conda-bld/xgboost_1593723618214/work/src/tree/updater_prune.cc:98: tree pruning end, 126 extra nodes, 0 pruned nodes, max_depth=6\n",
      "[11:36:20] INFO: /Users/runner/miniforge3/conda-bld/xgboost_1593723618214/work/src/tree/updater_prune.cc:98: tree pruning end, 126 extra nodes, 0 pruned nodes, max_depth=6\n",
      "[11:36:21] INFO: /Users/runner/miniforge3/conda-bld/xgboost_1593723618214/work/src/tree/updater_prune.cc:98: tree pruning end, 126 extra nodes, 0 pruned nodes, max_depth=6\n",
      "[11:36:22] INFO: /Users/runner/miniforge3/conda-bld/xgboost_1593723618214/work/src/tree/updater_prune.cc:98: tree pruning end, 122 extra nodes, 0 pruned nodes, max_depth=6\n",
      "[11:36:24] INFO: /Users/runner/miniforge3/conda-bld/xgboost_1593723618214/work/src/tree/updater_prune.cc:98: tree pruning end, 126 extra nodes, 0 pruned nodes, max_depth=6\n",
      "[11:36:26] INFO: /Users/runner/miniforge3/conda-bld/xgboost_1593723618214/work/src/tree/updater_prune.cc:98: tree pruning end, 126 extra nodes, 0 pruned nodes, max_depth=6\n",
      "[11:36:28] INFO: /Users/runner/miniforge3/conda-bld/xgboost_1593723618214/work/src/tree/updater_prune.cc:98: tree pruning end, 126 extra nodes, 0 pruned nodes, max_depth=6\n",
      "[11:36:30] INFO: /Users/runner/miniforge3/conda-bld/xgboost_1593723618214/work/src/tree/updater_prune.cc:98: tree pruning end, 122 extra nodes, 0 pruned nodes, max_depth=6\n",
      "[11:36:31] INFO: /Users/runner/miniforge3/conda-bld/xgboost_1593723618214/work/src/tree/updater_prune.cc:98: tree pruning end, 126 extra nodes, 0 pruned nodes, max_depth=6\n",
      "[11:36:32] INFO: /Users/runner/miniforge3/conda-bld/xgboost_1593723618214/work/src/tree/updater_prune.cc:98: tree pruning end, 124 extra nodes, 0 pruned nodes, max_depth=6\n",
      "[11:36:33] INFO: /Users/runner/miniforge3/conda-bld/xgboost_1593723618214/work/src/tree/updater_prune.cc:98: tree pruning end, 126 extra nodes, 0 pruned nodes, max_depth=6\n",
      "[11:36:34] INFO: /Users/runner/miniforge3/conda-bld/xgboost_1593723618214/work/src/tree/updater_prune.cc:98: tree pruning end, 126 extra nodes, 0 pruned nodes, max_depth=6\n",
      "[11:36:35] INFO: /Users/runner/miniforge3/conda-bld/xgboost_1593723618214/work/src/tree/updater_prune.cc:98: tree pruning end, 126 extra nodes, 0 pruned nodes, max_depth=6\n",
      "[11:36:36] INFO: /Users/runner/miniforge3/conda-bld/xgboost_1593723618214/work/src/tree/updater_prune.cc:98: tree pruning end, 126 extra nodes, 0 pruned nodes, max_depth=6\n",
      "[11:36:37] INFO: /Users/runner/miniforge3/conda-bld/xgboost_1593723618214/work/src/tree/updater_prune.cc:98: tree pruning end, 126 extra nodes, 0 pruned nodes, max_depth=6\n"
     ]
    },
    {
     "name": "stdout",
     "output_type": "stream",
     "text": [
      "[11:36:38] INFO: /Users/runner/miniforge3/conda-bld/xgboost_1593723618214/work/src/tree/updater_prune.cc:98: tree pruning end, 124 extra nodes, 0 pruned nodes, max_depth=6\n",
      "[11:36:39] INFO: /Users/runner/miniforge3/conda-bld/xgboost_1593723618214/work/src/tree/updater_prune.cc:98: tree pruning end, 126 extra nodes, 0 pruned nodes, max_depth=6\n",
      "[11:36:41] INFO: /Users/runner/miniforge3/conda-bld/xgboost_1593723618214/work/src/tree/updater_prune.cc:98: tree pruning end, 126 extra nodes, 0 pruned nodes, max_depth=6\n",
      "[11:36:43] INFO: /Users/runner/miniforge3/conda-bld/xgboost_1593723618214/work/src/tree/updater_prune.cc:98: tree pruning end, 126 extra nodes, 0 pruned nodes, max_depth=6\n",
      "[11:36:45] INFO: /Users/runner/miniforge3/conda-bld/xgboost_1593723618214/work/src/tree/updater_prune.cc:98: tree pruning end, 126 extra nodes, 0 pruned nodes, max_depth=6\n",
      "[11:36:47] INFO: /Users/runner/miniforge3/conda-bld/xgboost_1593723618214/work/src/tree/updater_prune.cc:98: tree pruning end, 126 extra nodes, 0 pruned nodes, max_depth=6\n",
      "[11:36:48] INFO: /Users/runner/miniforge3/conda-bld/xgboost_1593723618214/work/src/tree/updater_prune.cc:98: tree pruning end, 126 extra nodes, 0 pruned nodes, max_depth=6\n",
      "[11:36:49] INFO: /Users/runner/miniforge3/conda-bld/xgboost_1593723618214/work/src/tree/updater_prune.cc:98: tree pruning end, 126 extra nodes, 0 pruned nodes, max_depth=6\n",
      "[11:36:50] INFO: /Users/runner/miniforge3/conda-bld/xgboost_1593723618214/work/src/tree/updater_prune.cc:98: tree pruning end, 126 extra nodes, 0 pruned nodes, max_depth=6\n",
      "[11:36:51] INFO: /Users/runner/miniforge3/conda-bld/xgboost_1593723618214/work/src/tree/updater_prune.cc:98: tree pruning end, 126 extra nodes, 0 pruned nodes, max_depth=6\n",
      "[11:36:52] INFO: /Users/runner/miniforge3/conda-bld/xgboost_1593723618214/work/src/tree/updater_prune.cc:98: tree pruning end, 126 extra nodes, 0 pruned nodes, max_depth=6\n",
      "[11:36:53] INFO: /Users/runner/miniforge3/conda-bld/xgboost_1593723618214/work/src/tree/updater_prune.cc:98: tree pruning end, 126 extra nodes, 0 pruned nodes, max_depth=6\n",
      "[11:36:54] INFO: /Users/runner/miniforge3/conda-bld/xgboost_1593723618214/work/src/tree/updater_prune.cc:98: tree pruning end, 126 extra nodes, 0 pruned nodes, max_depth=6\n",
      "[11:36:56] INFO: /Users/runner/miniforge3/conda-bld/xgboost_1593723618214/work/src/tree/updater_prune.cc:98: tree pruning end, 124 extra nodes, 0 pruned nodes, max_depth=6\n",
      "[11:36:58] INFO: /Users/runner/miniforge3/conda-bld/xgboost_1593723618214/work/src/tree/updater_prune.cc:98: tree pruning end, 126 extra nodes, 0 pruned nodes, max_depth=6\n",
      "[11:37:00] INFO: /Users/runner/miniforge3/conda-bld/xgboost_1593723618214/work/src/tree/updater_prune.cc:98: tree pruning end, 120 extra nodes, 0 pruned nodes, max_depth=6\n",
      "[11:37:02] INFO: /Users/runner/miniforge3/conda-bld/xgboost_1593723618214/work/src/tree/updater_prune.cc:98: tree pruning end, 126 extra nodes, 0 pruned nodes, max_depth=6\n",
      "[11:37:03] INFO: /Users/runner/miniforge3/conda-bld/xgboost_1593723618214/work/src/tree/updater_prune.cc:98: tree pruning end, 126 extra nodes, 0 pruned nodes, max_depth=6\n",
      "[11:37:04] INFO: /Users/runner/miniforge3/conda-bld/xgboost_1593723618214/work/src/tree/updater_prune.cc:98: tree pruning end, 122 extra nodes, 0 pruned nodes, max_depth=6\n",
      "[11:37:05] INFO: /Users/runner/miniforge3/conda-bld/xgboost_1593723618214/work/src/tree/updater_prune.cc:98: tree pruning end, 126 extra nodes, 0 pruned nodes, max_depth=6\n",
      "[11:37:06] INFO: /Users/runner/miniforge3/conda-bld/xgboost_1593723618214/work/src/tree/updater_prune.cc:98: tree pruning end, 118 extra nodes, 0 pruned nodes, max_depth=6\n",
      "[11:37:07] INFO: /Users/runner/miniforge3/conda-bld/xgboost_1593723618214/work/src/tree/updater_prune.cc:98: tree pruning end, 114 extra nodes, 0 pruned nodes, max_depth=6\n",
      "[11:37:08] INFO: /Users/runner/miniforge3/conda-bld/xgboost_1593723618214/work/src/tree/updater_prune.cc:98: tree pruning end, 122 extra nodes, 0 pruned nodes, max_depth=6\n",
      "[11:37:09] INFO: /Users/runner/miniforge3/conda-bld/xgboost_1593723618214/work/src/tree/updater_prune.cc:98: tree pruning end, 122 extra nodes, 0 pruned nodes, max_depth=6\n",
      "[11:37:10] INFO: /Users/runner/miniforge3/conda-bld/xgboost_1593723618214/work/src/tree/updater_prune.cc:98: tree pruning end, 126 extra nodes, 0 pruned nodes, max_depth=6\n",
      "[11:37:11] INFO: /Users/runner/miniforge3/conda-bld/xgboost_1593723618214/work/src/tree/updater_prune.cc:98: tree pruning end, 120 extra nodes, 0 pruned nodes, max_depth=6\n",
      "[11:37:12] INFO: /Users/runner/miniforge3/conda-bld/xgboost_1593723618214/work/src/tree/updater_prune.cc:98: tree pruning end, 112 extra nodes, 0 pruned nodes, max_depth=6\n",
      "[11:37:14] INFO: /Users/runner/miniforge3/conda-bld/xgboost_1593723618214/work/src/tree/updater_prune.cc:98: tree pruning end, 100 extra nodes, 0 pruned nodes, max_depth=6\n",
      "[11:37:16] INFO: /Users/runner/miniforge3/conda-bld/xgboost_1593723618214/work/src/tree/updater_prune.cc:98: tree pruning end, 124 extra nodes, 0 pruned nodes, max_depth=6\n",
      "[11:37:17] INFO: /Users/runner/miniforge3/conda-bld/xgboost_1593723618214/work/src/tree/updater_prune.cc:98: tree pruning end, 126 extra nodes, 0 pruned nodes, max_depth=6\n",
      "[11:37:19] INFO: /Users/runner/miniforge3/conda-bld/xgboost_1593723618214/work/src/tree/updater_prune.cc:98: tree pruning end, 126 extra nodes, 0 pruned nodes, max_depth=6\n",
      "[11:37:21] INFO: /Users/runner/miniforge3/conda-bld/xgboost_1593723618214/work/src/tree/updater_prune.cc:98: tree pruning end, 118 extra nodes, 0 pruned nodes, max_depth=6\n",
      "[11:37:22] INFO: /Users/runner/miniforge3/conda-bld/xgboost_1593723618214/work/src/tree/updater_prune.cc:98: tree pruning end, 124 extra nodes, 0 pruned nodes, max_depth=6\n",
      "[11:37:23] INFO: /Users/runner/miniforge3/conda-bld/xgboost_1593723618214/work/src/tree/updater_prune.cc:98: tree pruning end, 126 extra nodes, 0 pruned nodes, max_depth=6\n",
      "[11:37:24] INFO: /Users/runner/miniforge3/conda-bld/xgboost_1593723618214/work/src/tree/updater_prune.cc:98: tree pruning end, 126 extra nodes, 0 pruned nodes, max_depth=6\n",
      "[11:37:25] INFO: /Users/runner/miniforge3/conda-bld/xgboost_1593723618214/work/src/tree/updater_prune.cc:98: tree pruning end, 126 extra nodes, 0 pruned nodes, max_depth=6\n",
      "[11:37:26] INFO: /Users/runner/miniforge3/conda-bld/xgboost_1593723618214/work/src/tree/updater_prune.cc:98: tree pruning end, 126 extra nodes, 0 pruned nodes, max_depth=6\n",
      "[11:37:27] INFO: /Users/runner/miniforge3/conda-bld/xgboost_1593723618214/work/src/tree/updater_prune.cc:98: tree pruning end, 120 extra nodes, 0 pruned nodes, max_depth=6\n",
      "[11:37:28] INFO: /Users/runner/miniforge3/conda-bld/xgboost_1593723618214/work/src/tree/updater_prune.cc:98: tree pruning end, 116 extra nodes, 0 pruned nodes, max_depth=6\n",
      "[11:37:30] INFO: /Users/runner/miniforge3/conda-bld/xgboost_1593723618214/work/src/tree/updater_prune.cc:98: tree pruning end, 126 extra nodes, 0 pruned nodes, max_depth=6\n",
      "[11:37:32] INFO: /Users/runner/miniforge3/conda-bld/xgboost_1593723618214/work/src/tree/updater_prune.cc:98: tree pruning end, 126 extra nodes, 0 pruned nodes, max_depth=6\n",
      "[11:37:34] INFO: /Users/runner/miniforge3/conda-bld/xgboost_1593723618214/work/src/tree/updater_prune.cc:98: tree pruning end, 126 extra nodes, 0 pruned nodes, max_depth=6\n",
      "[11:37:36] INFO: /Users/runner/miniforge3/conda-bld/xgboost_1593723618214/work/src/tree/updater_prune.cc:98: tree pruning end, 124 extra nodes, 0 pruned nodes, max_depth=6\n",
      "[11:37:37] INFO: /Users/runner/miniforge3/conda-bld/xgboost_1593723618214/work/src/tree/updater_prune.cc:98: tree pruning end, 124 extra nodes, 0 pruned nodes, max_depth=6\n",
      "[11:37:38] INFO: /Users/runner/miniforge3/conda-bld/xgboost_1593723618214/work/src/tree/updater_prune.cc:98: tree pruning end, 126 extra nodes, 0 pruned nodes, max_depth=6\n",
      "[11:37:39] INFO: /Users/runner/miniforge3/conda-bld/xgboost_1593723618214/work/src/tree/updater_prune.cc:98: tree pruning end, 126 extra nodes, 0 pruned nodes, max_depth=6\n",
      "[11:37:40] INFO: /Users/runner/miniforge3/conda-bld/xgboost_1593723618214/work/src/tree/updater_prune.cc:98: tree pruning end, 126 extra nodes, 0 pruned nodes, max_depth=6\n",
      "[11:37:41] INFO: /Users/runner/miniforge3/conda-bld/xgboost_1593723618214/work/src/tree/updater_prune.cc:98: tree pruning end, 126 extra nodes, 0 pruned nodes, max_depth=6\n"
     ]
    },
    {
     "name": "stdout",
     "output_type": "stream",
     "text": [
      "[11:37:42] INFO: /Users/runner/miniforge3/conda-bld/xgboost_1593723618214/work/src/tree/updater_prune.cc:98: tree pruning end, 126 extra nodes, 0 pruned nodes, max_depth=6\n",
      "[11:37:43] INFO: /Users/runner/miniforge3/conda-bld/xgboost_1593723618214/work/src/tree/updater_prune.cc:98: tree pruning end, 118 extra nodes, 0 pruned nodes, max_depth=6\n",
      "[11:37:45] INFO: /Users/runner/miniforge3/conda-bld/xgboost_1593723618214/work/src/tree/updater_prune.cc:98: tree pruning end, 126 extra nodes, 0 pruned nodes, max_depth=6\n",
      "[11:37:47] INFO: /Users/runner/miniforge3/conda-bld/xgboost_1593723618214/work/src/tree/updater_prune.cc:98: tree pruning end, 126 extra nodes, 0 pruned nodes, max_depth=6\n",
      "[11:37:49] INFO: /Users/runner/miniforge3/conda-bld/xgboost_1593723618214/work/src/tree/updater_prune.cc:98: tree pruning end, 126 extra nodes, 0 pruned nodes, max_depth=6\n",
      "[11:37:51] INFO: /Users/runner/miniforge3/conda-bld/xgboost_1593723618214/work/src/tree/updater_prune.cc:98: tree pruning end, 126 extra nodes, 0 pruned nodes, max_depth=6\n",
      "[11:37:53] INFO: /Users/runner/miniforge3/conda-bld/xgboost_1593723618214/work/src/tree/updater_prune.cc:98: tree pruning end, 126 extra nodes, 0 pruned nodes, max_depth=6\n",
      "[11:37:55] INFO: /Users/runner/miniforge3/conda-bld/xgboost_1593723618214/work/src/tree/updater_prune.cc:98: tree pruning end, 126 extra nodes, 0 pruned nodes, max_depth=6\n",
      "[11:37:56] INFO: /Users/runner/miniforge3/conda-bld/xgboost_1593723618214/work/src/tree/updater_prune.cc:98: tree pruning end, 124 extra nodes, 0 pruned nodes, max_depth=6\n",
      "[11:37:57] INFO: /Users/runner/miniforge3/conda-bld/xgboost_1593723618214/work/src/tree/updater_prune.cc:98: tree pruning end, 126 extra nodes, 0 pruned nodes, max_depth=6\n",
      "[11:37:58] INFO: /Users/runner/miniforge3/conda-bld/xgboost_1593723618214/work/src/tree/updater_prune.cc:98: tree pruning end, 126 extra nodes, 0 pruned nodes, max_depth=6\n",
      "[11:37:59] INFO: /Users/runner/miniforge3/conda-bld/xgboost_1593723618214/work/src/tree/updater_prune.cc:98: tree pruning end, 126 extra nodes, 0 pruned nodes, max_depth=6\n",
      "[11:38:00] INFO: /Users/runner/miniforge3/conda-bld/xgboost_1593723618214/work/src/tree/updater_prune.cc:98: tree pruning end, 126 extra nodes, 0 pruned nodes, max_depth=6\n",
      "[11:38:01] INFO: /Users/runner/miniforge3/conda-bld/xgboost_1593723618214/work/src/tree/updater_prune.cc:98: tree pruning end, 124 extra nodes, 0 pruned nodes, max_depth=6\n",
      "[11:38:02] INFO: /Users/runner/miniforge3/conda-bld/xgboost_1593723618214/work/src/tree/updater_prune.cc:98: tree pruning end, 126 extra nodes, 0 pruned nodes, max_depth=6\n",
      "[11:38:03] INFO: /Users/runner/miniforge3/conda-bld/xgboost_1593723618214/work/src/tree/updater_prune.cc:98: tree pruning end, 126 extra nodes, 0 pruned nodes, max_depth=6\n",
      "[11:38:05] INFO: /Users/runner/miniforge3/conda-bld/xgboost_1593723618214/work/src/tree/updater_prune.cc:98: tree pruning end, 126 extra nodes, 0 pruned nodes, max_depth=6\n",
      "[11:38:07] INFO: /Users/runner/miniforge3/conda-bld/xgboost_1593723618214/work/src/tree/updater_prune.cc:98: tree pruning end, 126 extra nodes, 0 pruned nodes, max_depth=6\n",
      "[11:38:08] INFO: /Users/runner/miniforge3/conda-bld/xgboost_1593723618214/work/src/tree/updater_prune.cc:98: tree pruning end, 126 extra nodes, 0 pruned nodes, max_depth=6\n",
      "[11:38:10] INFO: /Users/runner/miniforge3/conda-bld/xgboost_1593723618214/work/src/tree/updater_prune.cc:98: tree pruning end, 126 extra nodes, 0 pruned nodes, max_depth=6\n",
      "[11:38:12] INFO: /Users/runner/miniforge3/conda-bld/xgboost_1593723618214/work/src/tree/updater_prune.cc:98: tree pruning end, 116 extra nodes, 0 pruned nodes, max_depth=6\n",
      "[11:38:14] INFO: /Users/runner/miniforge3/conda-bld/xgboost_1593723618214/work/src/tree/updater_prune.cc:98: tree pruning end, 126 extra nodes, 0 pruned nodes, max_depth=6\n",
      "[11:38:16] INFO: /Users/runner/miniforge3/conda-bld/xgboost_1593723618214/work/src/tree/updater_prune.cc:98: tree pruning end, 126 extra nodes, 0 pruned nodes, max_depth=6\n",
      "[11:38:17] INFO: /Users/runner/miniforge3/conda-bld/xgboost_1593723618214/work/src/tree/updater_prune.cc:98: tree pruning end, 126 extra nodes, 0 pruned nodes, max_depth=6\n",
      "[11:38:18] INFO: /Users/runner/miniforge3/conda-bld/xgboost_1593723618214/work/src/tree/updater_prune.cc:98: tree pruning end, 126 extra nodes, 0 pruned nodes, max_depth=6\n",
      "[11:38:20] INFO: /Users/runner/miniforge3/conda-bld/xgboost_1593723618214/work/src/tree/updater_prune.cc:98: tree pruning end, 126 extra nodes, 0 pruned nodes, max_depth=6\n",
      "[11:43:04] INFO: /Users/runner/miniforge3/conda-bld/xgboost_1593723618214/work/src/tree/updater_prune.cc:98: tree pruning end, 126 extra nodes, 0 pruned nodes, max_depth=6\n",
      "[11:43:05] INFO: /Users/runner/miniforge3/conda-bld/xgboost_1593723618214/work/src/tree/updater_prune.cc:98: tree pruning end, 124 extra nodes, 0 pruned nodes, max_depth=6\n",
      "[11:43:06] INFO: /Users/runner/miniforge3/conda-bld/xgboost_1593723618214/work/src/tree/updater_prune.cc:98: tree pruning end, 126 extra nodes, 0 pruned nodes, max_depth=6\n",
      "[11:43:08] INFO: /Users/runner/miniforge3/conda-bld/xgboost_1593723618214/work/src/tree/updater_prune.cc:98: tree pruning end, 122 extra nodes, 0 pruned nodes, max_depth=6\n",
      "[11:43:09] INFO: /Users/runner/miniforge3/conda-bld/xgboost_1593723618214/work/src/tree/updater_prune.cc:98: tree pruning end, 106 extra nodes, 0 pruned nodes, max_depth=6\n",
      "[11:43:10] INFO: /Users/runner/miniforge3/conda-bld/xgboost_1593723618214/work/src/tree/updater_prune.cc:98: tree pruning end, 124 extra nodes, 0 pruned nodes, max_depth=6\n",
      "[11:43:10] INFO: /Users/runner/miniforge3/conda-bld/xgboost_1593723618214/work/src/tree/updater_prune.cc:98: tree pruning end, 122 extra nodes, 0 pruned nodes, max_depth=6\n",
      "[11:43:11] INFO: /Users/runner/miniforge3/conda-bld/xgboost_1593723618214/work/src/tree/updater_prune.cc:98: tree pruning end, 126 extra nodes, 0 pruned nodes, max_depth=6\n",
      "[11:43:13] INFO: /Users/runner/miniforge3/conda-bld/xgboost_1593723618214/work/src/tree/updater_prune.cc:98: tree pruning end, 126 extra nodes, 0 pruned nodes, max_depth=6\n",
      "[11:43:14] INFO: /Users/runner/miniforge3/conda-bld/xgboost_1593723618214/work/src/tree/updater_prune.cc:98: tree pruning end, 112 extra nodes, 0 pruned nodes, max_depth=6\n",
      "[11:43:15] INFO: /Users/runner/miniforge3/conda-bld/xgboost_1593723618214/work/src/tree/updater_prune.cc:98: tree pruning end, 126 extra nodes, 0 pruned nodes, max_depth=6\n",
      "[11:43:23] INFO: /Users/runner/miniforge3/conda-bld/xgboost_1593723618214/work/src/tree/updater_prune.cc:98: tree pruning end, 126 extra nodes, 0 pruned nodes, max_depth=6\n",
      "[11:43:33] INFO: /Users/runner/miniforge3/conda-bld/xgboost_1593723618214/work/src/tree/updater_prune.cc:98: tree pruning end, 126 extra nodes, 0 pruned nodes, max_depth=6\n",
      "[11:47:14] INFO: /Users/runner/miniforge3/conda-bld/xgboost_1593723618214/work/src/tree/updater_prune.cc:98: tree pruning end, 126 extra nodes, 0 pruned nodes, max_depth=6\n",
      "[11:47:15] INFO: /Users/runner/miniforge3/conda-bld/xgboost_1593723618214/work/src/tree/updater_prune.cc:98: tree pruning end, 126 extra nodes, 0 pruned nodes, max_depth=6\n",
      "[11:47:17] INFO: /Users/runner/miniforge3/conda-bld/xgboost_1593723618214/work/src/tree/updater_prune.cc:98: tree pruning end, 120 extra nodes, 0 pruned nodes, max_depth=6\n",
      "[11:47:18] INFO: /Users/runner/miniforge3/conda-bld/xgboost_1593723618214/work/src/tree/updater_prune.cc:98: tree pruning end, 126 extra nodes, 0 pruned nodes, max_depth=6\n",
      "[11:47:19] INFO: /Users/runner/miniforge3/conda-bld/xgboost_1593723618214/work/src/tree/updater_prune.cc:98: tree pruning end, 124 extra nodes, 0 pruned nodes, max_depth=6\n",
      "[11:47:20] INFO: /Users/runner/miniforge3/conda-bld/xgboost_1593723618214/work/src/tree/updater_prune.cc:98: tree pruning end, 126 extra nodes, 0 pruned nodes, max_depth=6\n",
      "[11:47:21] INFO: /Users/runner/miniforge3/conda-bld/xgboost_1593723618214/work/src/tree/updater_prune.cc:98: tree pruning end, 120 extra nodes, 0 pruned nodes, max_depth=6\n",
      "[11:47:22] INFO: /Users/runner/miniforge3/conda-bld/xgboost_1593723618214/work/src/tree/updater_prune.cc:98: tree pruning end, 126 extra nodes, 0 pruned nodes, max_depth=6\n",
      "[11:47:23] INFO: /Users/runner/miniforge3/conda-bld/xgboost_1593723618214/work/src/tree/updater_prune.cc:98: tree pruning end, 114 extra nodes, 0 pruned nodes, max_depth=6\n"
     ]
    },
    {
     "name": "stdout",
     "output_type": "stream",
     "text": [
      "[11:47:25] INFO: /Users/runner/miniforge3/conda-bld/xgboost_1593723618214/work/src/tree/updater_prune.cc:98: tree pruning end, 126 extra nodes, 0 pruned nodes, max_depth=6\n",
      "[11:47:27] INFO: /Users/runner/miniforge3/conda-bld/xgboost_1593723618214/work/src/tree/updater_prune.cc:98: tree pruning end, 122 extra nodes, 0 pruned nodes, max_depth=6\n",
      "[11:47:29] INFO: /Users/runner/miniforge3/conda-bld/xgboost_1593723618214/work/src/tree/updater_prune.cc:98: tree pruning end, 126 extra nodes, 0 pruned nodes, max_depth=6\n",
      "[11:47:30] INFO: /Users/runner/miniforge3/conda-bld/xgboost_1593723618214/work/src/tree/updater_prune.cc:98: tree pruning end, 126 extra nodes, 0 pruned nodes, max_depth=6\n",
      "[11:47:31] INFO: /Users/runner/miniforge3/conda-bld/xgboost_1593723618214/work/src/tree/updater_prune.cc:98: tree pruning end, 124 extra nodes, 0 pruned nodes, max_depth=6\n",
      "[11:47:32] INFO: /Users/runner/miniforge3/conda-bld/xgboost_1593723618214/work/src/tree/updater_prune.cc:98: tree pruning end, 114 extra nodes, 0 pruned nodes, max_depth=6\n",
      "[11:47:34] INFO: /Users/runner/miniforge3/conda-bld/xgboost_1593723618214/work/src/tree/updater_prune.cc:98: tree pruning end, 126 extra nodes, 0 pruned nodes, max_depth=6\n",
      "[11:47:35] INFO: /Users/runner/miniforge3/conda-bld/xgboost_1593723618214/work/src/tree/updater_prune.cc:98: tree pruning end, 126 extra nodes, 0 pruned nodes, max_depth=6\n",
      "[11:47:36] INFO: /Users/runner/miniforge3/conda-bld/xgboost_1593723618214/work/src/tree/updater_prune.cc:98: tree pruning end, 126 extra nodes, 0 pruned nodes, max_depth=6\n",
      "[11:47:37] INFO: /Users/runner/miniforge3/conda-bld/xgboost_1593723618214/work/src/tree/updater_prune.cc:98: tree pruning end, 126 extra nodes, 0 pruned nodes, max_depth=6\n",
      "[11:47:38] INFO: /Users/runner/miniforge3/conda-bld/xgboost_1593723618214/work/src/tree/updater_prune.cc:98: tree pruning end, 126 extra nodes, 0 pruned nodes, max_depth=6\n",
      "[11:47:39] INFO: /Users/runner/miniforge3/conda-bld/xgboost_1593723618214/work/src/tree/updater_prune.cc:98: tree pruning end, 108 extra nodes, 0 pruned nodes, max_depth=6\n",
      "[11:47:40] INFO: /Users/runner/miniforge3/conda-bld/xgboost_1593723618214/work/src/tree/updater_prune.cc:98: tree pruning end, 110 extra nodes, 0 pruned nodes, max_depth=6\n",
      "[11:47:42] INFO: /Users/runner/miniforge3/conda-bld/xgboost_1593723618214/work/src/tree/updater_prune.cc:98: tree pruning end, 126 extra nodes, 0 pruned nodes, max_depth=6\n",
      "[11:47:43] INFO: /Users/runner/miniforge3/conda-bld/xgboost_1593723618214/work/src/tree/updater_prune.cc:98: tree pruning end, 126 extra nodes, 0 pruned nodes, max_depth=6\n",
      "[11:47:44] INFO: /Users/runner/miniforge3/conda-bld/xgboost_1593723618214/work/src/tree/updater_prune.cc:98: tree pruning end, 126 extra nodes, 0 pruned nodes, max_depth=6\n",
      "[11:47:45] INFO: /Users/runner/miniforge3/conda-bld/xgboost_1593723618214/work/src/tree/updater_prune.cc:98: tree pruning end, 126 extra nodes, 0 pruned nodes, max_depth=6\n",
      "[11:47:46] INFO: /Users/runner/miniforge3/conda-bld/xgboost_1593723618214/work/src/tree/updater_prune.cc:98: tree pruning end, 124 extra nodes, 0 pruned nodes, max_depth=6\n",
      "[11:47:47] INFO: /Users/runner/miniforge3/conda-bld/xgboost_1593723618214/work/src/tree/updater_prune.cc:98: tree pruning end, 126 extra nodes, 0 pruned nodes, max_depth=6\n",
      "[11:47:48] INFO: /Users/runner/miniforge3/conda-bld/xgboost_1593723618214/work/src/tree/updater_prune.cc:98: tree pruning end, 108 extra nodes, 0 pruned nodes, max_depth=6\n",
      "[11:47:49] INFO: /Users/runner/miniforge3/conda-bld/xgboost_1593723618214/work/src/tree/updater_prune.cc:98: tree pruning end, 124 extra nodes, 0 pruned nodes, max_depth=6\n",
      "[11:47:50] INFO: /Users/runner/miniforge3/conda-bld/xgboost_1593723618214/work/src/tree/updater_prune.cc:98: tree pruning end, 126 extra nodes, 0 pruned nodes, max_depth=6\n",
      "[11:47:51] INFO: /Users/runner/miniforge3/conda-bld/xgboost_1593723618214/work/src/tree/updater_prune.cc:98: tree pruning end, 126 extra nodes, 0 pruned nodes, max_depth=6\n",
      "[11:47:52] INFO: /Users/runner/miniforge3/conda-bld/xgboost_1593723618214/work/src/tree/updater_prune.cc:98: tree pruning end, 126 extra nodes, 0 pruned nodes, max_depth=6\n",
      "[11:47:53] INFO: /Users/runner/miniforge3/conda-bld/xgboost_1593723618214/work/src/tree/updater_prune.cc:98: tree pruning end, 126 extra nodes, 0 pruned nodes, max_depth=6\n",
      "[11:47:54] INFO: /Users/runner/miniforge3/conda-bld/xgboost_1593723618214/work/src/tree/updater_prune.cc:98: tree pruning end, 114 extra nodes, 0 pruned nodes, max_depth=6\n",
      "[11:47:55] INFO: /Users/runner/miniforge3/conda-bld/xgboost_1593723618214/work/src/tree/updater_prune.cc:98: tree pruning end, 120 extra nodes, 0 pruned nodes, max_depth=6\n",
      "[11:47:56] INFO: /Users/runner/miniforge3/conda-bld/xgboost_1593723618214/work/src/tree/updater_prune.cc:98: tree pruning end, 122 extra nodes, 0 pruned nodes, max_depth=6\n",
      "[11:47:57] INFO: /Users/runner/miniforge3/conda-bld/xgboost_1593723618214/work/src/tree/updater_prune.cc:98: tree pruning end, 126 extra nodes, 0 pruned nodes, max_depth=6\n",
      "[11:47:58] INFO: /Users/runner/miniforge3/conda-bld/xgboost_1593723618214/work/src/tree/updater_prune.cc:98: tree pruning end, 122 extra nodes, 0 pruned nodes, max_depth=6\n",
      "[11:48:00] INFO: /Users/runner/miniforge3/conda-bld/xgboost_1593723618214/work/src/tree/updater_prune.cc:98: tree pruning end, 110 extra nodes, 0 pruned nodes, max_depth=6\n",
      "[11:48:01] INFO: /Users/runner/miniforge3/conda-bld/xgboost_1593723618214/work/src/tree/updater_prune.cc:98: tree pruning end, 122 extra nodes, 0 pruned nodes, max_depth=6\n",
      "[11:48:02] INFO: /Users/runner/miniforge3/conda-bld/xgboost_1593723618214/work/src/tree/updater_prune.cc:98: tree pruning end, 126 extra nodes, 0 pruned nodes, max_depth=6\n",
      "[11:48:03] INFO: /Users/runner/miniforge3/conda-bld/xgboost_1593723618214/work/src/tree/updater_prune.cc:98: tree pruning end, 118 extra nodes, 0 pruned nodes, max_depth=6\n",
      "[11:48:04] INFO: /Users/runner/miniforge3/conda-bld/xgboost_1593723618214/work/src/tree/updater_prune.cc:98: tree pruning end, 126 extra nodes, 0 pruned nodes, max_depth=6\n",
      "[11:48:05] INFO: /Users/runner/miniforge3/conda-bld/xgboost_1593723618214/work/src/tree/updater_prune.cc:98: tree pruning end, 126 extra nodes, 0 pruned nodes, max_depth=6\n",
      "[11:48:06] INFO: /Users/runner/miniforge3/conda-bld/xgboost_1593723618214/work/src/tree/updater_prune.cc:98: tree pruning end, 126 extra nodes, 0 pruned nodes, max_depth=6\n",
      "[11:48:07] INFO: /Users/runner/miniforge3/conda-bld/xgboost_1593723618214/work/src/tree/updater_prune.cc:98: tree pruning end, 88 extra nodes, 0 pruned nodes, max_depth=6\n",
      "[11:48:08] INFO: /Users/runner/miniforge3/conda-bld/xgboost_1593723618214/work/src/tree/updater_prune.cc:98: tree pruning end, 126 extra nodes, 0 pruned nodes, max_depth=6\n",
      "[11:48:09] INFO: /Users/runner/miniforge3/conda-bld/xgboost_1593723618214/work/src/tree/updater_prune.cc:98: tree pruning end, 126 extra nodes, 0 pruned nodes, max_depth=6\n",
      "[11:48:10] INFO: /Users/runner/miniforge3/conda-bld/xgboost_1593723618214/work/src/tree/updater_prune.cc:98: tree pruning end, 114 extra nodes, 0 pruned nodes, max_depth=6\n",
      "[11:48:11] INFO: /Users/runner/miniforge3/conda-bld/xgboost_1593723618214/work/src/tree/updater_prune.cc:98: tree pruning end, 126 extra nodes, 0 pruned nodes, max_depth=6\n",
      "[11:48:12] INFO: /Users/runner/miniforge3/conda-bld/xgboost_1593723618214/work/src/tree/updater_prune.cc:98: tree pruning end, 126 extra nodes, 0 pruned nodes, max_depth=6\n",
      "[11:48:13] INFO: /Users/runner/miniforge3/conda-bld/xgboost_1593723618214/work/src/tree/updater_prune.cc:98: tree pruning end, 116 extra nodes, 0 pruned nodes, max_depth=6\n",
      "[11:48:14] INFO: /Users/runner/miniforge3/conda-bld/xgboost_1593723618214/work/src/tree/updater_prune.cc:98: tree pruning end, 122 extra nodes, 0 pruned nodes, max_depth=6\n",
      "[11:48:15] INFO: /Users/runner/miniforge3/conda-bld/xgboost_1593723618214/work/src/tree/updater_prune.cc:98: tree pruning end, 126 extra nodes, 0 pruned nodes, max_depth=6\n",
      "[11:48:16] INFO: /Users/runner/miniforge3/conda-bld/xgboost_1593723618214/work/src/tree/updater_prune.cc:98: tree pruning end, 80 extra nodes, 0 pruned nodes, max_depth=6\n",
      "[11:48:17] INFO: /Users/runner/miniforge3/conda-bld/xgboost_1593723618214/work/src/tree/updater_prune.cc:98: tree pruning end, 88 extra nodes, 0 pruned nodes, max_depth=6\n"
     ]
    },
    {
     "name": "stdout",
     "output_type": "stream",
     "text": [
      "[11:48:18] INFO: /Users/runner/miniforge3/conda-bld/xgboost_1593723618214/work/src/tree/updater_prune.cc:98: tree pruning end, 126 extra nodes, 0 pruned nodes, max_depth=6\n",
      "[11:48:19] INFO: /Users/runner/miniforge3/conda-bld/xgboost_1593723618214/work/src/tree/updater_prune.cc:98: tree pruning end, 122 extra nodes, 0 pruned nodes, max_depth=6\n",
      "[11:48:20] INFO: /Users/runner/miniforge3/conda-bld/xgboost_1593723618214/work/src/tree/updater_prune.cc:98: tree pruning end, 126 extra nodes, 0 pruned nodes, max_depth=6\n",
      "[11:48:21] INFO: /Users/runner/miniforge3/conda-bld/xgboost_1593723618214/work/src/tree/updater_prune.cc:98: tree pruning end, 126 extra nodes, 0 pruned nodes, max_depth=6\n",
      "[11:48:22] INFO: /Users/runner/miniforge3/conda-bld/xgboost_1593723618214/work/src/tree/updater_prune.cc:98: tree pruning end, 120 extra nodes, 0 pruned nodes, max_depth=6\n",
      "[11:48:23] INFO: /Users/runner/miniforge3/conda-bld/xgboost_1593723618214/work/src/tree/updater_prune.cc:98: tree pruning end, 122 extra nodes, 0 pruned nodes, max_depth=6\n",
      "[11:48:24] INFO: /Users/runner/miniforge3/conda-bld/xgboost_1593723618214/work/src/tree/updater_prune.cc:98: tree pruning end, 126 extra nodes, 0 pruned nodes, max_depth=6\n",
      "[11:48:25] INFO: /Users/runner/miniforge3/conda-bld/xgboost_1593723618214/work/src/tree/updater_prune.cc:98: tree pruning end, 124 extra nodes, 0 pruned nodes, max_depth=6\n",
      "[11:48:26] INFO: /Users/runner/miniforge3/conda-bld/xgboost_1593723618214/work/src/tree/updater_prune.cc:98: tree pruning end, 126 extra nodes, 0 pruned nodes, max_depth=6\n",
      "[11:48:27] INFO: /Users/runner/miniforge3/conda-bld/xgboost_1593723618214/work/src/tree/updater_prune.cc:98: tree pruning end, 126 extra nodes, 0 pruned nodes, max_depth=6\n",
      "[11:48:28] INFO: /Users/runner/miniforge3/conda-bld/xgboost_1593723618214/work/src/tree/updater_prune.cc:98: tree pruning end, 116 extra nodes, 0 pruned nodes, max_depth=6\n",
      "[11:48:29] INFO: /Users/runner/miniforge3/conda-bld/xgboost_1593723618214/work/src/tree/updater_prune.cc:98: tree pruning end, 126 extra nodes, 0 pruned nodes, max_depth=6\n",
      "[11:48:30] INFO: /Users/runner/miniforge3/conda-bld/xgboost_1593723618214/work/src/tree/updater_prune.cc:98: tree pruning end, 126 extra nodes, 0 pruned nodes, max_depth=6\n",
      "[11:48:31] INFO: /Users/runner/miniforge3/conda-bld/xgboost_1593723618214/work/src/tree/updater_prune.cc:98: tree pruning end, 124 extra nodes, 0 pruned nodes, max_depth=6\n",
      "[11:48:32] INFO: /Users/runner/miniforge3/conda-bld/xgboost_1593723618214/work/src/tree/updater_prune.cc:98: tree pruning end, 118 extra nodes, 0 pruned nodes, max_depth=6\n",
      "[11:48:33] INFO: /Users/runner/miniforge3/conda-bld/xgboost_1593723618214/work/src/tree/updater_prune.cc:98: tree pruning end, 124 extra nodes, 0 pruned nodes, max_depth=6\n",
      "[11:48:35] INFO: /Users/runner/miniforge3/conda-bld/xgboost_1593723618214/work/src/tree/updater_prune.cc:98: tree pruning end, 126 extra nodes, 0 pruned nodes, max_depth=6\n",
      "[11:48:36] INFO: /Users/runner/miniforge3/conda-bld/xgboost_1593723618214/work/src/tree/updater_prune.cc:98: tree pruning end, 124 extra nodes, 0 pruned nodes, max_depth=6\n",
      "[11:48:37] INFO: /Users/runner/miniforge3/conda-bld/xgboost_1593723618214/work/src/tree/updater_prune.cc:98: tree pruning end, 124 extra nodes, 0 pruned nodes, max_depth=6\n",
      "[11:48:38] INFO: /Users/runner/miniforge3/conda-bld/xgboost_1593723618214/work/src/tree/updater_prune.cc:98: tree pruning end, 122 extra nodes, 0 pruned nodes, max_depth=6\n",
      "[11:48:39] INFO: /Users/runner/miniforge3/conda-bld/xgboost_1593723618214/work/src/tree/updater_prune.cc:98: tree pruning end, 126 extra nodes, 0 pruned nodes, max_depth=6\n",
      "[11:48:40] INFO: /Users/runner/miniforge3/conda-bld/xgboost_1593723618214/work/src/tree/updater_prune.cc:98: tree pruning end, 110 extra nodes, 0 pruned nodes, max_depth=6\n",
      "[11:48:41] INFO: /Users/runner/miniforge3/conda-bld/xgboost_1593723618214/work/src/tree/updater_prune.cc:98: tree pruning end, 126 extra nodes, 0 pruned nodes, max_depth=6\n",
      "[11:48:42] INFO: /Users/runner/miniforge3/conda-bld/xgboost_1593723618214/work/src/tree/updater_prune.cc:98: tree pruning end, 126 extra nodes, 0 pruned nodes, max_depth=6\n",
      "[11:48:43] INFO: /Users/runner/miniforge3/conda-bld/xgboost_1593723618214/work/src/tree/updater_prune.cc:98: tree pruning end, 124 extra nodes, 0 pruned nodes, max_depth=6\n",
      "[11:48:44] INFO: /Users/runner/miniforge3/conda-bld/xgboost_1593723618214/work/src/tree/updater_prune.cc:98: tree pruning end, 126 extra nodes, 0 pruned nodes, max_depth=6\n",
      "[11:48:45] INFO: /Users/runner/miniforge3/conda-bld/xgboost_1593723618214/work/src/tree/updater_prune.cc:98: tree pruning end, 126 extra nodes, 0 pruned nodes, max_depth=6\n",
      "[11:48:46] INFO: /Users/runner/miniforge3/conda-bld/xgboost_1593723618214/work/src/tree/updater_prune.cc:98: tree pruning end, 126 extra nodes, 0 pruned nodes, max_depth=6\n",
      "[11:48:47] INFO: /Users/runner/miniforge3/conda-bld/xgboost_1593723618214/work/src/tree/updater_prune.cc:98: tree pruning end, 118 extra nodes, 0 pruned nodes, max_depth=6\n",
      "[11:48:48] INFO: /Users/runner/miniforge3/conda-bld/xgboost_1593723618214/work/src/tree/updater_prune.cc:98: tree pruning end, 126 extra nodes, 0 pruned nodes, max_depth=6\n",
      "[11:48:49] INFO: /Users/runner/miniforge3/conda-bld/xgboost_1593723618214/work/src/tree/updater_prune.cc:98: tree pruning end, 124 extra nodes, 0 pruned nodes, max_depth=6\n",
      "[11:48:50] INFO: /Users/runner/miniforge3/conda-bld/xgboost_1593723618214/work/src/tree/updater_prune.cc:98: tree pruning end, 126 extra nodes, 0 pruned nodes, max_depth=6\n",
      "[11:48:51] INFO: /Users/runner/miniforge3/conda-bld/xgboost_1593723618214/work/src/tree/updater_prune.cc:98: tree pruning end, 124 extra nodes, 0 pruned nodes, max_depth=6\n",
      "[11:48:52] INFO: /Users/runner/miniforge3/conda-bld/xgboost_1593723618214/work/src/tree/updater_prune.cc:98: tree pruning end, 126 extra nodes, 0 pruned nodes, max_depth=6\n",
      "[11:48:53] INFO: /Users/runner/miniforge3/conda-bld/xgboost_1593723618214/work/src/tree/updater_prune.cc:98: tree pruning end, 122 extra nodes, 0 pruned nodes, max_depth=6\n",
      "[11:48:54] INFO: /Users/runner/miniforge3/conda-bld/xgboost_1593723618214/work/src/tree/updater_prune.cc:98: tree pruning end, 126 extra nodes, 0 pruned nodes, max_depth=6\n",
      "[11:48:55] INFO: /Users/runner/miniforge3/conda-bld/xgboost_1593723618214/work/src/tree/updater_prune.cc:98: tree pruning end, 126 extra nodes, 0 pruned nodes, max_depth=6\n",
      "[11:48:56] INFO: /Users/runner/miniforge3/conda-bld/xgboost_1593723618214/work/src/tree/updater_prune.cc:98: tree pruning end, 126 extra nodes, 0 pruned nodes, max_depth=6\n",
      "[11:48:57] INFO: /Users/runner/miniforge3/conda-bld/xgboost_1593723618214/work/src/tree/updater_prune.cc:98: tree pruning end, 126 extra nodes, 0 pruned nodes, max_depth=6\n",
      "[11:48:59] INFO: /Users/runner/miniforge3/conda-bld/xgboost_1593723618214/work/src/tree/updater_prune.cc:98: tree pruning end, 126 extra nodes, 0 pruned nodes, max_depth=6\n",
      "[11:49:00] INFO: /Users/runner/miniforge3/conda-bld/xgboost_1593723618214/work/src/tree/updater_prune.cc:98: tree pruning end, 126 extra nodes, 0 pruned nodes, max_depth=6\n",
      "[11:49:01] INFO: /Users/runner/miniforge3/conda-bld/xgboost_1593723618214/work/src/tree/updater_prune.cc:98: tree pruning end, 126 extra nodes, 0 pruned nodes, max_depth=6\n",
      "[11:49:02] INFO: /Users/runner/miniforge3/conda-bld/xgboost_1593723618214/work/src/tree/updater_prune.cc:98: tree pruning end, 126 extra nodes, 0 pruned nodes, max_depth=6\n",
      "[11:49:03] INFO: /Users/runner/miniforge3/conda-bld/xgboost_1593723618214/work/src/tree/updater_prune.cc:98: tree pruning end, 120 extra nodes, 0 pruned nodes, max_depth=6\n",
      "[11:49:04] INFO: /Users/runner/miniforge3/conda-bld/xgboost_1593723618214/work/src/tree/updater_prune.cc:98: tree pruning end, 92 extra nodes, 0 pruned nodes, max_depth=6\n",
      "[11:49:05] INFO: /Users/runner/miniforge3/conda-bld/xgboost_1593723618214/work/src/tree/updater_prune.cc:98: tree pruning end, 124 extra nodes, 0 pruned nodes, max_depth=6\n",
      "[11:49:06] INFO: /Users/runner/miniforge3/conda-bld/xgboost_1593723618214/work/src/tree/updater_prune.cc:98: tree pruning end, 126 extra nodes, 0 pruned nodes, max_depth=6\n",
      "[11:49:07] INFO: /Users/runner/miniforge3/conda-bld/xgboost_1593723618214/work/src/tree/updater_prune.cc:98: tree pruning end, 124 extra nodes, 0 pruned nodes, max_depth=6\n"
     ]
    },
    {
     "name": "stdout",
     "output_type": "stream",
     "text": [
      "[11:49:08] INFO: /Users/runner/miniforge3/conda-bld/xgboost_1593723618214/work/src/tree/updater_prune.cc:98: tree pruning end, 124 extra nodes, 0 pruned nodes, max_depth=6\n",
      "[11:49:09] INFO: /Users/runner/miniforge3/conda-bld/xgboost_1593723618214/work/src/tree/updater_prune.cc:98: tree pruning end, 122 extra nodes, 0 pruned nodes, max_depth=6\n",
      "[11:49:10] INFO: /Users/runner/miniforge3/conda-bld/xgboost_1593723618214/work/src/tree/updater_prune.cc:98: tree pruning end, 126 extra nodes, 0 pruned nodes, max_depth=6\n",
      "[11:49:11] INFO: /Users/runner/miniforge3/conda-bld/xgboost_1593723618214/work/src/tree/updater_prune.cc:98: tree pruning end, 126 extra nodes, 0 pruned nodes, max_depth=6\n",
      "[11:49:12] INFO: /Users/runner/miniforge3/conda-bld/xgboost_1593723618214/work/src/tree/updater_prune.cc:98: tree pruning end, 126 extra nodes, 0 pruned nodes, max_depth=6\n",
      "[11:49:13] INFO: /Users/runner/miniforge3/conda-bld/xgboost_1593723618214/work/src/tree/updater_prune.cc:98: tree pruning end, 126 extra nodes, 0 pruned nodes, max_depth=6\n",
      "[11:49:14] INFO: /Users/runner/miniforge3/conda-bld/xgboost_1593723618214/work/src/tree/updater_prune.cc:98: tree pruning end, 126 extra nodes, 0 pruned nodes, max_depth=6\n",
      "[11:49:15] INFO: /Users/runner/miniforge3/conda-bld/xgboost_1593723618214/work/src/tree/updater_prune.cc:98: tree pruning end, 110 extra nodes, 0 pruned nodes, max_depth=6\n",
      "[11:49:16] INFO: /Users/runner/miniforge3/conda-bld/xgboost_1593723618214/work/src/tree/updater_prune.cc:98: tree pruning end, 122 extra nodes, 0 pruned nodes, max_depth=6\n",
      "[11:49:17] INFO: /Users/runner/miniforge3/conda-bld/xgboost_1593723618214/work/src/tree/updater_prune.cc:98: tree pruning end, 120 extra nodes, 0 pruned nodes, max_depth=6\n",
      "[11:49:18] INFO: /Users/runner/miniforge3/conda-bld/xgboost_1593723618214/work/src/tree/updater_prune.cc:98: tree pruning end, 124 extra nodes, 0 pruned nodes, max_depth=6\n",
      "[11:49:19] INFO: /Users/runner/miniforge3/conda-bld/xgboost_1593723618214/work/src/tree/updater_prune.cc:98: tree pruning end, 126 extra nodes, 0 pruned nodes, max_depth=6\n",
      "[11:49:20] INFO: /Users/runner/miniforge3/conda-bld/xgboost_1593723618214/work/src/tree/updater_prune.cc:98: tree pruning end, 122 extra nodes, 0 pruned nodes, max_depth=6\n",
      "[11:49:22] INFO: /Users/runner/miniforge3/conda-bld/xgboost_1593723618214/work/src/tree/updater_prune.cc:98: tree pruning end, 120 extra nodes, 0 pruned nodes, max_depth=6\n",
      "[11:49:23] INFO: /Users/runner/miniforge3/conda-bld/xgboost_1593723618214/work/src/tree/updater_prune.cc:98: tree pruning end, 126 extra nodes, 0 pruned nodes, max_depth=6\n",
      "[11:49:24] INFO: /Users/runner/miniforge3/conda-bld/xgboost_1593723618214/work/src/tree/updater_prune.cc:98: tree pruning end, 116 extra nodes, 0 pruned nodes, max_depth=6\n",
      "[11:49:25] INFO: /Users/runner/miniforge3/conda-bld/xgboost_1593723618214/work/src/tree/updater_prune.cc:98: tree pruning end, 126 extra nodes, 0 pruned nodes, max_depth=6\n",
      "[11:49:26] INFO: /Users/runner/miniforge3/conda-bld/xgboost_1593723618214/work/src/tree/updater_prune.cc:98: tree pruning end, 120 extra nodes, 0 pruned nodes, max_depth=6\n",
      "[11:49:27] INFO: /Users/runner/miniforge3/conda-bld/xgboost_1593723618214/work/src/tree/updater_prune.cc:98: tree pruning end, 112 extra nodes, 0 pruned nodes, max_depth=6\n",
      "[11:49:28] INFO: /Users/runner/miniforge3/conda-bld/xgboost_1593723618214/work/src/tree/updater_prune.cc:98: tree pruning end, 116 extra nodes, 0 pruned nodes, max_depth=6\n",
      "[11:49:29] INFO: /Users/runner/miniforge3/conda-bld/xgboost_1593723618214/work/src/tree/updater_prune.cc:98: tree pruning end, 126 extra nodes, 0 pruned nodes, max_depth=6\n",
      "[11:49:30] INFO: /Users/runner/miniforge3/conda-bld/xgboost_1593723618214/work/src/tree/updater_prune.cc:98: tree pruning end, 124 extra nodes, 0 pruned nodes, max_depth=6\n",
      "[11:49:31] INFO: /Users/runner/miniforge3/conda-bld/xgboost_1593723618214/work/src/tree/updater_prune.cc:98: tree pruning end, 124 extra nodes, 0 pruned nodes, max_depth=6\n",
      "[11:49:32] INFO: /Users/runner/miniforge3/conda-bld/xgboost_1593723618214/work/src/tree/updater_prune.cc:98: tree pruning end, 126 extra nodes, 0 pruned nodes, max_depth=6\n",
      "[11:49:33] INFO: /Users/runner/miniforge3/conda-bld/xgboost_1593723618214/work/src/tree/updater_prune.cc:98: tree pruning end, 100 extra nodes, 0 pruned nodes, max_depth=6\n",
      "[11:49:34] INFO: /Users/runner/miniforge3/conda-bld/xgboost_1593723618214/work/src/tree/updater_prune.cc:98: tree pruning end, 124 extra nodes, 0 pruned nodes, max_depth=6\n",
      "[11:49:35] INFO: /Users/runner/miniforge3/conda-bld/xgboost_1593723618214/work/src/tree/updater_prune.cc:98: tree pruning end, 126 extra nodes, 0 pruned nodes, max_depth=6\n",
      "[11:49:36] INFO: /Users/runner/miniforge3/conda-bld/xgboost_1593723618214/work/src/tree/updater_prune.cc:98: tree pruning end, 126 extra nodes, 0 pruned nodes, max_depth=6\n",
      "[11:49:37] INFO: /Users/runner/miniforge3/conda-bld/xgboost_1593723618214/work/src/tree/updater_prune.cc:98: tree pruning end, 124 extra nodes, 0 pruned nodes, max_depth=6\n",
      "[11:49:38] INFO: /Users/runner/miniforge3/conda-bld/xgboost_1593723618214/work/src/tree/updater_prune.cc:98: tree pruning end, 120 extra nodes, 0 pruned nodes, max_depth=6\n",
      "[11:49:39] INFO: /Users/runner/miniforge3/conda-bld/xgboost_1593723618214/work/src/tree/updater_prune.cc:98: tree pruning end, 114 extra nodes, 0 pruned nodes, max_depth=6\n",
      "[11:49:40] INFO: /Users/runner/miniforge3/conda-bld/xgboost_1593723618214/work/src/tree/updater_prune.cc:98: tree pruning end, 122 extra nodes, 0 pruned nodes, max_depth=6\n",
      "[11:49:41] INFO: /Users/runner/miniforge3/conda-bld/xgboost_1593723618214/work/src/tree/updater_prune.cc:98: tree pruning end, 124 extra nodes, 0 pruned nodes, max_depth=6\n",
      "[11:49:42] INFO: /Users/runner/miniforge3/conda-bld/xgboost_1593723618214/work/src/tree/updater_prune.cc:98: tree pruning end, 126 extra nodes, 0 pruned nodes, max_depth=6\n",
      "[11:49:43] INFO: /Users/runner/miniforge3/conda-bld/xgboost_1593723618214/work/src/tree/updater_prune.cc:98: tree pruning end, 126 extra nodes, 0 pruned nodes, max_depth=6\n",
      "[11:49:44] INFO: /Users/runner/miniforge3/conda-bld/xgboost_1593723618214/work/src/tree/updater_prune.cc:98: tree pruning end, 126 extra nodes, 0 pruned nodes, max_depth=6\n",
      "[11:49:45] INFO: /Users/runner/miniforge3/conda-bld/xgboost_1593723618214/work/src/tree/updater_prune.cc:98: tree pruning end, 126 extra nodes, 0 pruned nodes, max_depth=6\n",
      "[11:49:46] INFO: /Users/runner/miniforge3/conda-bld/xgboost_1593723618214/work/src/tree/updater_prune.cc:98: tree pruning end, 124 extra nodes, 0 pruned nodes, max_depth=6\n",
      "[11:49:47] INFO: /Users/runner/miniforge3/conda-bld/xgboost_1593723618214/work/src/tree/updater_prune.cc:98: tree pruning end, 126 extra nodes, 0 pruned nodes, max_depth=6\n",
      "[11:49:48] INFO: /Users/runner/miniforge3/conda-bld/xgboost_1593723618214/work/src/tree/updater_prune.cc:98: tree pruning end, 116 extra nodes, 0 pruned nodes, max_depth=6\n",
      "[11:49:49] INFO: /Users/runner/miniforge3/conda-bld/xgboost_1593723618214/work/src/tree/updater_prune.cc:98: tree pruning end, 126 extra nodes, 0 pruned nodes, max_depth=6\n",
      "[11:49:50] INFO: /Users/runner/miniforge3/conda-bld/xgboost_1593723618214/work/src/tree/updater_prune.cc:98: tree pruning end, 124 extra nodes, 0 pruned nodes, max_depth=6\n",
      "[11:49:51] INFO: /Users/runner/miniforge3/conda-bld/xgboost_1593723618214/work/src/tree/updater_prune.cc:98: tree pruning end, 124 extra nodes, 0 pruned nodes, max_depth=6\n",
      "[11:49:52] INFO: /Users/runner/miniforge3/conda-bld/xgboost_1593723618214/work/src/tree/updater_prune.cc:98: tree pruning end, 126 extra nodes, 0 pruned nodes, max_depth=6\n",
      "[11:49:53] INFO: /Users/runner/miniforge3/conda-bld/xgboost_1593723618214/work/src/tree/updater_prune.cc:98: tree pruning end, 120 extra nodes, 0 pruned nodes, max_depth=6\n",
      "[11:49:55] INFO: /Users/runner/miniforge3/conda-bld/xgboost_1593723618214/work/src/tree/updater_prune.cc:98: tree pruning end, 90 extra nodes, 0 pruned nodes, max_depth=6\n",
      "[11:49:56] INFO: /Users/runner/miniforge3/conda-bld/xgboost_1593723618214/work/src/tree/updater_prune.cc:98: tree pruning end, 118 extra nodes, 0 pruned nodes, max_depth=6\n",
      "[11:49:57] INFO: /Users/runner/miniforge3/conda-bld/xgboost_1593723618214/work/src/tree/updater_prune.cc:98: tree pruning end, 126 extra nodes, 0 pruned nodes, max_depth=6\n"
     ]
    },
    {
     "name": "stdout",
     "output_type": "stream",
     "text": [
      "[11:49:58] INFO: /Users/runner/miniforge3/conda-bld/xgboost_1593723618214/work/src/tree/updater_prune.cc:98: tree pruning end, 126 extra nodes, 0 pruned nodes, max_depth=6\n",
      "[11:49:59] INFO: /Users/runner/miniforge3/conda-bld/xgboost_1593723618214/work/src/tree/updater_prune.cc:98: tree pruning end, 126 extra nodes, 0 pruned nodes, max_depth=6\n",
      "[11:50:00] INFO: /Users/runner/miniforge3/conda-bld/xgboost_1593723618214/work/src/tree/updater_prune.cc:98: tree pruning end, 126 extra nodes, 0 pruned nodes, max_depth=6\n",
      "[11:50:01] INFO: /Users/runner/miniforge3/conda-bld/xgboost_1593723618214/work/src/tree/updater_prune.cc:98: tree pruning end, 126 extra nodes, 0 pruned nodes, max_depth=6\n",
      "[11:50:02] INFO: /Users/runner/miniforge3/conda-bld/xgboost_1593723618214/work/src/tree/updater_prune.cc:98: tree pruning end, 124 extra nodes, 0 pruned nodes, max_depth=6\n",
      "[11:50:03] INFO: /Users/runner/miniforge3/conda-bld/xgboost_1593723618214/work/src/tree/updater_prune.cc:98: tree pruning end, 126 extra nodes, 0 pruned nodes, max_depth=6\n",
      "[11:50:04] INFO: /Users/runner/miniforge3/conda-bld/xgboost_1593723618214/work/src/tree/updater_prune.cc:98: tree pruning end, 122 extra nodes, 0 pruned nodes, max_depth=6\n",
      "[11:50:05] INFO: /Users/runner/miniforge3/conda-bld/xgboost_1593723618214/work/src/tree/updater_prune.cc:98: tree pruning end, 126 extra nodes, 0 pruned nodes, max_depth=6\n",
      "[11:50:06] INFO: /Users/runner/miniforge3/conda-bld/xgboost_1593723618214/work/src/tree/updater_prune.cc:98: tree pruning end, 124 extra nodes, 0 pruned nodes, max_depth=6\n",
      "[11:50:07] INFO: /Users/runner/miniforge3/conda-bld/xgboost_1593723618214/work/src/tree/updater_prune.cc:98: tree pruning end, 126 extra nodes, 0 pruned nodes, max_depth=6\n",
      "[11:50:08] INFO: /Users/runner/miniforge3/conda-bld/xgboost_1593723618214/work/src/tree/updater_prune.cc:98: tree pruning end, 114 extra nodes, 0 pruned nodes, max_depth=6\n",
      "[11:50:09] INFO: /Users/runner/miniforge3/conda-bld/xgboost_1593723618214/work/src/tree/updater_prune.cc:98: tree pruning end, 126 extra nodes, 0 pruned nodes, max_depth=6\n",
      "[11:50:09] ======== Monitor: Learner ========\n",
      "[11:50:09] Configure: 0.004422s, 1 calls @ 4422us\n",
      "\n",
      "[11:50:09] GetGradient: 6.38263s, 300 calls @ 6382632us\n",
      "\n",
      "[11:50:09] PredictRaw: 21.2689s, 300 calls @ 21268853us\n",
      "\n",
      "[11:50:09] UpdateOneIter: 363.357s, 300 calls @ 363356683us\n",
      "\n",
      "[11:50:09] ======== Monitor: GBTree ========\n",
      "[11:50:09] BoostNewTrees: 335.694s, 300 calls @ 335694082us\n",
      "\n",
      "[11:50:09] CommitModel: 0.000382s, 300 calls @ 382us\n",
      "\n",
      "[11:50:09] ======== Monitor: Learner ========\n",
      "[11:50:09] Configure: 0.003531s, 1 calls @ 3531us\n",
      "\n",
      "[11:50:09] ======== Monitor: GBTree ========\n"
     ]
    }
   ],
   "source": [
    "model = XGBRegressor(objective='count:poisson',n_estimators=300, verbosity=3)\n",
    "xgbmodel = model.fit(X_train, y_train) "
   ]
  },
  {
   "cell_type": "code",
   "execution_count": 370,
   "id": "edaf22b2",
   "metadata": {},
   "outputs": [
    {
     "name": "stdout",
     "output_type": "stream",
     "text": [
      "XGBoost - Root Mean Square Error (RMSE): 710.154\n"
     ]
    }
   ],
   "source": [
    "from sklearn.metrics import mean_squared_error\n",
    "from math import sqrt\n",
    "\n",
    "predictions_xgb = model.predict(X_test)\n",
    "rmse_xgb = sqrt(mean_squared_error(y_test, predictions_xgb))\n",
    "print(\"XGBoost - Root Mean Square Error (RMSE): %.3f\" % rmse_xgb)"
   ]
  },
  {
   "cell_type": "code",
   "execution_count": 371,
   "id": "43492cb3",
   "metadata": {},
   "outputs": [
    {
     "data": {
      "text/plain": [
       "array([ 0.3096299,  5.3327346,  3.7404404, ...,  1.7580147, 22.55857  ,\n",
       "        1.9602721], dtype=float32)"
      ]
     },
     "execution_count": 371,
     "metadata": {},
     "output_type": "execute_result"
    }
   ],
   "source": [
    "predictions_xgb"
   ]
  },
  {
   "cell_type": "code",
   "execution_count": 372,
   "id": "012b5ed3",
   "metadata": {},
   "outputs": [
    {
     "data": {
      "text/plain": [
       "0.0056941250194653655"
      ]
     },
     "execution_count": 372,
     "metadata": {},
     "output_type": "execute_result"
    }
   ],
   "source": [
    "#normalised rmse for test data, 0.005 is small\n",
    "rmse_xgb/df_trainm['sales'].max()-df_trainm['sales'].min()"
   ]
  },
  {
   "cell_type": "markdown",
   "id": "32560fd9",
   "metadata": {},
   "source": [
    "## Merging Test Data and Make Predictions"
   ]
  },
  {
   "cell_type": "code",
   "execution_count": 373,
   "id": "092b7136",
   "metadata": {},
   "outputs": [],
   "source": [
    "#merge test data\n",
    "df_testm = df_test.merge(df_trans, how='left', on=['date','store_nbr'])\n",
    "df_testm = df_testm.merge(df_store, how='left', on='store_nbr')\n",
    "df_testm = df_testm.merge(df_oil, how='left', on='date')\n",
    "df_testm = df_testm.merge(df_holid, how='left', on='date')"
   ]
  },
  {
   "cell_type": "code",
   "execution_count": 374,
   "id": "a62acdcc",
   "metadata": {},
   "outputs": [],
   "source": [
    "df_testm = df_testm.rename(columns={'type_x':'store_type','type_y':'holid_type'})"
   ]
  },
  {
   "cell_type": "code",
   "execution_count": 375,
   "id": "96520d0a",
   "metadata": {},
   "outputs": [],
   "source": [
    "#data cleaning: handling missing value \n",
    "df_testm.transactions = df_testm.transactions.replace(np.nan,0)\n",
    "df_testm[['locale','locale_name', 'description']] = df_testm[['locale','locale_name', 'description']].replace(np.nan,'unknown')\n",
    "df_testm['holid_type'] = df_testm['holid_type'].replace(np.nan,'Work Day')\n",
    "df_testm['transferred'] = df_testm['transferred'].replace(np.nan,False)\n",
    "df_testm['dcoilwtico'] = df_testm['dcoilwtico'].fillna(method='bfill')"
   ]
  },
  {
   "cell_type": "code",
   "execution_count": 376,
   "id": "3c81b7a9",
   "metadata": {},
   "outputs": [],
   "source": [
    "df_testm['date']=pd.to_datetime(df_testm['date'])\n",
    "df_testm['year']= df_testm['date'].dt.year\n",
    "df_testm['month']= df_testm['date'].dt.month\n",
    "df_testm['week']= df_testm['date'].dt.isocalendar().week\n",
    "df_testm['quarter']= df_testm['date'].dt.quarter\n",
    "df_testm['day_of_week']= df_testm['date'].dt.day_name()"
   ]
  },
  {
   "cell_type": "code",
   "execution_count": 377,
   "id": "4ddea887",
   "metadata": {},
   "outputs": [],
   "source": [
    "day_week = {\n",
    "    'Monday':'Weekday',\n",
    "    'Tuesday':'Weekday',\n",
    "    'Wednesday':'Weekday',\n",
    "    'Thursday':'Weekday',\n",
    "    'Friday':'Weekday',\n",
    "    'Saturday':'Weekend',\n",
    "    'Sunday':'Weekend'\n",
    "}\n",
    "\n",
    "df_testm['day_in_week']=df_testm['day_of_week'].map(day_week)\n",
    "\n",
    "df_testm['new_family']=df_testm['family'].map(new_fam)"
   ]
  },
  {
   "cell_type": "code",
   "execution_count": 378,
   "id": "50af5dd8",
   "metadata": {},
   "outputs": [],
   "source": [
    "df_testm.drop(['family','state','locale_name','description','day_of_week','id'],axis=1,inplace=True)\n"
   ]
  },
  {
   "cell_type": "code",
   "execution_count": 379,
   "id": "b9bd3c8b",
   "metadata": {},
   "outputs": [],
   "source": [
    "df_testm['city'] = LabelEncoder().fit_transform(df_testm['city'])"
   ]
  },
  {
   "cell_type": "code",
   "execution_count": 380,
   "id": "a1e15c75",
   "metadata": {},
   "outputs": [],
   "source": [
    "holiday=pd.get_dummies(df_testm['holid_type'],drop_first=True)\n",
    "local=pd.get_dummies(df_testm['locale'],drop_first=True)\n",
    "day_week=pd.get_dummies(df_testm['day_in_week'],drop_first=True)\n",
    "fam=pd.get_dummies(df_testm['new_family'],drop_first=True)\n",
    "store=pd.get_dummies(df_testm['store_type'],drop_first=True)"
   ]
  },
  {
   "cell_type": "code",
   "execution_count": 381,
   "id": "4b620052",
   "metadata": {},
   "outputs": [],
   "source": [
    "df_testm.drop(['holid_type','locale','day_in_week','new_family','store_type'],axis=1,inplace=True)\n",
    "df_testm = pd.concat( [df_testm,holiday,local,day_week,fam,store],axis=1)"
   ]
  },
  {
   "cell_type": "code",
   "execution_count": 382,
   "id": "0a97b2d5",
   "metadata": {},
   "outputs": [],
   "source": [
    "df_testm=df_testm.set_index('date')\n",
    "df_testm.week = df_testm.week.astype(int)"
   ]
  },
  {
   "cell_type": "code",
   "execution_count": 383,
   "id": "87aba366",
   "metadata": {},
   "outputs": [],
   "source": [
    "df_testm['Holiday']= 0\n",
    "df_testm['National']= 0\n",
    "df_testm['Bridge']= 0\n",
    "df_testm['Event']= 0\n",
    "df_testm['Transfer']= 0\n",
    "df_testm['Regional']= 0"
   ]
  },
  {
   "cell_type": "code",
   "execution_count": 384,
   "id": "37479353",
   "metadata": {},
   "outputs": [],
   "source": [
    "df_testm = df_testm.reindex(columns=['store_nbr', 'onpromotion', 'transactions', 'city', 'cluster', 'dcoilwtico', 'transferred', 'year', 'month', 'week', 'quarter', 'Bridge', 'Event', 'Holiday', 'Transfer', 'Work Day', 'National', 'Regional', 'unknown', 'Weekend', 'Unpopular Genre', 'B', 'C', 'D', 'E'])\n"
   ]
  },
  {
   "cell_type": "code",
   "execution_count": 385,
   "id": "3d98dd27",
   "metadata": {},
   "outputs": [],
   "source": [
    "#make predictions\n",
    "predictions = model.predict(df_testm)\n",
    "predictions = pd.DataFrame({'Predictions': predictions})"
   ]
  },
  {
   "cell_type": "code",
   "execution_count": 386,
   "id": "5d283413",
   "metadata": {},
   "outputs": [
    {
     "data": {
      "text/html": [
       "<div>\n",
       "<style scoped>\n",
       "    .dataframe tbody tr th:only-of-type {\n",
       "        vertical-align: middle;\n",
       "    }\n",
       "\n",
       "    .dataframe tbody tr th {\n",
       "        vertical-align: top;\n",
       "    }\n",
       "\n",
       "    .dataframe thead th {\n",
       "        text-align: right;\n",
       "    }\n",
       "</style>\n",
       "<table border=\"1\" class=\"dataframe\">\n",
       "  <thead>\n",
       "    <tr style=\"text-align: right;\">\n",
       "      <th></th>\n",
       "      <th>id</th>\n",
       "      <th>Predictions</th>\n",
       "    </tr>\n",
       "  </thead>\n",
       "  <tbody>\n",
       "    <tr>\n",
       "      <th>0</th>\n",
       "      <td>3000888</td>\n",
       "      <td>0.200711</td>\n",
       "    </tr>\n",
       "    <tr>\n",
       "      <th>1</th>\n",
       "      <td>3000889</td>\n",
       "      <td>0.200711</td>\n",
       "    </tr>\n",
       "    <tr>\n",
       "      <th>2</th>\n",
       "      <td>3000890</td>\n",
       "      <td>13.601624</td>\n",
       "    </tr>\n",
       "    <tr>\n",
       "      <th>3</th>\n",
       "      <td>3000891</td>\n",
       "      <td>526.159058</td>\n",
       "    </tr>\n",
       "    <tr>\n",
       "      <th>4</th>\n",
       "      <td>3000892</td>\n",
       "      <td>0.200711</td>\n",
       "    </tr>\n",
       "    <tr>\n",
       "      <th>...</th>\n",
       "      <td>...</td>\n",
       "      <td>...</td>\n",
       "    </tr>\n",
       "    <tr>\n",
       "      <th>28507</th>\n",
       "      <td>3029395</td>\n",
       "      <td>39.999809</td>\n",
       "    </tr>\n",
       "    <tr>\n",
       "      <th>28508</th>\n",
       "      <td>3029396</td>\n",
       "      <td>1.454316</td>\n",
       "    </tr>\n",
       "    <tr>\n",
       "      <th>28509</th>\n",
       "      <td>3029397</td>\n",
       "      <td>39.999809</td>\n",
       "    </tr>\n",
       "    <tr>\n",
       "      <th>28510</th>\n",
       "      <td>3029398</td>\n",
       "      <td>44.320431</td>\n",
       "    </tr>\n",
       "    <tr>\n",
       "      <th>28511</th>\n",
       "      <td>3029399</td>\n",
       "      <td>0.087531</td>\n",
       "    </tr>\n",
       "  </tbody>\n",
       "</table>\n",
       "<p>28512 rows × 2 columns</p>\n",
       "</div>"
      ],
      "text/plain": [
       "            id  Predictions\n",
       "0      3000888     0.200711\n",
       "1      3000889     0.200711\n",
       "2      3000890    13.601624\n",
       "3      3000891   526.159058\n",
       "4      3000892     0.200711\n",
       "...        ...          ...\n",
       "28507  3029395    39.999809\n",
       "28508  3029396     1.454316\n",
       "28509  3029397    39.999809\n",
       "28510  3029398    44.320431\n",
       "28511  3029399     0.087531\n",
       "\n",
       "[28512 rows x 2 columns]"
      ]
     },
     "execution_count": 386,
     "metadata": {},
     "output_type": "execute_result"
    }
   ],
   "source": [
    "predictions = pd.concat([df_test['id'],predictions],axis=1)\n",
    "predictions"
   ]
  },
  {
   "cell_type": "code",
   "execution_count": 387,
   "id": "f32c2c8b",
   "metadata": {},
   "outputs": [],
   "source": [
    "predictions.to_csv('submission.csv' , index = False)"
   ]
  }
 ],
 "metadata": {
  "kernelspec": {
   "display_name": "Python 3 (ipykernel)",
   "language": "python",
   "name": "python3"
  },
  "language_info": {
   "codemirror_mode": {
    "name": "ipython",
    "version": 3
   },
   "file_extension": ".py",
   "mimetype": "text/x-python",
   "name": "python",
   "nbconvert_exporter": "python",
   "pygments_lexer": "ipython3",
   "version": "3.11.5"
  }
 },
 "nbformat": 4,
 "nbformat_minor": 5
}
